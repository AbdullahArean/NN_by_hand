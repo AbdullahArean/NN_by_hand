{
 "cells": [
  {
   "cell_type": "code",
   "execution_count": 1,
   "metadata": {},
   "outputs": [],
   "source": [
    "import matplotlib.pyplot as plt\n",
    "import torch\n",
    "from torch import nn"
   ]
  },
  {
   "cell_type": "code",
   "execution_count": 2,
   "metadata": {},
   "outputs": [],
   "source": [
    "from torch.utils.data.dataset import Dataset\n",
    "\n",
    "class RNNData(Dataset):\n",
    "    def __init__(self):\n",
    "        pass\n",
    "    \n",
    "    def __len__(self):\n",
    "        return 100\n",
    "    \n",
    "    def __getitem__(self, index):\n",
    "        L = torch.randint(-10, 10, (1,)).item()\n",
    "        self.x = torch.sin(torch.linspace(L, L+3., 51))\n",
    "        self.x = self.x.view(len(self.x), -1)\n",
    "        return self.x[:50], self.x[-1]"
   ]
  },
  {
   "cell_type": "code",
   "execution_count": 3,
   "metadata": {},
   "outputs": [],
   "source": [
    "dataset = RNNData()"
   ]
  },
  {
   "cell_type": "code",
   "execution_count": 4,
   "metadata": {
    "scrolled": true
   },
   "outputs": [
    {
     "data": {
      "text/plain": [
       "(tensor([[-0.7568],\n",
       "         [-0.7946],\n",
       "         [-0.8296],\n",
       "         [-0.8616],\n",
       "         [-0.8905],\n",
       "         [-0.9162],\n",
       "         [-0.9386],\n",
       "         [-0.9576],\n",
       "         [-0.9731],\n",
       "         [-0.9852],\n",
       "         [-0.9937],\n",
       "         [-0.9986],\n",
       "         [-1.0000],\n",
       "         [-0.9977],\n",
       "         [-0.9919],\n",
       "         [-0.9825],\n",
       "         [-0.9695],\n",
       "         [-0.9531],\n",
       "         [-0.9332],\n",
       "         [-0.9100],\n",
       "         [-0.8835],\n",
       "         [-0.8538],\n",
       "         [-0.8210],\n",
       "         [-0.7853],\n",
       "         [-0.7468],\n",
       "         [-0.7055],\n",
       "         [-0.6618],\n",
       "         [-0.6156],\n",
       "         [-0.5673],\n",
       "         [-0.5169],\n",
       "         [-0.4646],\n",
       "         [-0.4107],\n",
       "         [-0.3553],\n",
       "         [-0.2986],\n",
       "         [-0.2408],\n",
       "         [-0.1822],\n",
       "         [-0.1229],\n",
       "         [-0.0631],\n",
       "         [-0.0032],\n",
       "         [ 0.0568],\n",
       "         [ 0.1165],\n",
       "         [ 0.1759],\n",
       "         [ 0.2346],\n",
       "         [ 0.2925],\n",
       "         [ 0.3493],\n",
       "         [ 0.4048],\n",
       "         [ 0.4590],\n",
       "         [ 0.5114],\n",
       "         [ 0.5620],\n",
       "         [ 0.6106]]),\n",
       " tensor([0.6570]))"
      ]
     },
     "execution_count": 4,
     "metadata": {},
     "output_type": "execute_result"
    }
   ],
   "source": [
    "dataset[25]"
   ]
  },
  {
   "cell_type": "code",
   "execution_count": 5,
   "metadata": {},
   "outputs": [],
   "source": [
    "from torch.utils.data import DataLoader\n",
    "\n",
    "batch_size = 1\n",
    "\n",
    "dataloader = DataLoader(dataset, batch_size = batch_size)"
   ]
  },
  {
   "cell_type": "code",
   "execution_count": 6,
   "metadata": {},
   "outputs": [],
   "source": [
    "class RNNModel(torch.nn.Module):\n",
    "    def __init__(self):\n",
    "        super(RNNModel, self).__init__()\n",
    "        self.hidden_size = 4\n",
    "        self.rnn = torch.nn.GRU(input_size = 1, hidden_size = self.hidden_size, num_layers=1, batch_first=True)\n",
    "        self.linear = torch.nn.Linear(self.hidden_size, 1)\n",
    "    \n",
    "    def forward(self, x):\n",
    "        out, hid = self.rnn(x)\n",
    "        out = self.linear(out[:,-1,:])\n",
    "        return out"
   ]
  },
  {
   "cell_type": "code",
   "execution_count": 7,
   "metadata": {},
   "outputs": [],
   "source": [
    "model = RNNModel()"
   ]
  },
  {
   "cell_type": "code",
   "execution_count": 8,
   "metadata": {},
   "outputs": [],
   "source": [
    "criterion = torch.nn.MSELoss() "
   ]
  },
  {
   "cell_type": "code",
   "execution_count": 9,
   "metadata": {},
   "outputs": [],
   "source": [
    "optimizer = torch.optim.Adam(model.parameters(), lr=.01)"
   ]
  },
  {
   "cell_type": "code",
   "execution_count": 10,
   "metadata": {},
   "outputs": [],
   "source": [
    "class AverageMeter:\n",
    "    def __init__(self):\n",
    "        self.val = 0.\n",
    "        self.avg = 0.\n",
    "        self.sum = 0.\n",
    "        self.count = 0.\n",
    "    \n",
    "    def update(self, val, n = 1):\n",
    "        self.val = val\n",
    "        self.sum = self.sum + val*n\n",
    "        self.count = self.count + n\n",
    "        self.avg = self.sum / self.count\n",
    "    \n",
    "    def get_avg(self):\n",
    "        return self.avg"
   ]
  },
  {
   "cell_type": "code",
   "execution_count": 11,
   "metadata": {},
   "outputs": [
    {
     "name": "stdout",
     "output_type": "stream",
     "text": [
      "Epoch: 0 Loss: 0.02001642994582653\n",
      "Epoch: 1 Loss: 0.007860062643885612\n",
      "Epoch: 2 Loss: 0.0011969550978392363\n",
      "Epoch: 3 Loss: 0.0002812270831782371\n",
      "Epoch: 4 Loss: 0.0022689984180033207\n",
      "Epoch: 5 Loss: 0.00033106791670434177\n",
      "Epoch: 6 Loss: 0.0009804629953578115\n",
      "Epoch: 7 Loss: 2.6972151317750104e-05\n",
      "Epoch: 8 Loss: 0.0016707768663764\n",
      "Epoch: 9 Loss: 0.00032349402317777276\n",
      "Epoch: 10 Loss: 0.0002986431063618511\n",
      "Epoch: 11 Loss: 5.085534576210193e-05\n",
      "Epoch: 12 Loss: 0.00023427853011526167\n",
      "Epoch: 13 Loss: 2.9524953788495623e-06\n",
      "Epoch: 14 Loss: 0.00015948944201227278\n",
      "Epoch: 15 Loss: 0.0005435203202068806\n",
      "Epoch: 16 Loss: 9.09631580725545e-06\n",
      "Epoch: 17 Loss: 0.0018317897338420153\n",
      "Epoch: 18 Loss: 0.00350995478220284\n",
      "Epoch: 19 Loss: 1.4265483514463995e-05\n"
     ]
    }
   ],
   "source": [
    "LOSSES = []\n",
    "\n",
    "for epoch in range(20):\n",
    "    \n",
    "    averagemeter = AverageMeter()\n",
    "    \n",
    "    for x, y in dataloader:\n",
    "        h_0 = torch.zeros(1,10,1)\n",
    "        y_hat = model(x)\n",
    "        loss = criterion(y_hat, y)\n",
    "        optimizer.zero_grad()\n",
    "        loss.backward()\n",
    "        optimizer.step()\n",
    "        averagemeter.update(val=loss.item())\n",
    "    \n",
    "    LOSSES.append(averagemeter.get_avg())\n",
    "    print(f\"Epoch: {epoch} Loss: {loss.item()}\")"
   ]
  },
  {
   "cell_type": "code",
   "execution_count": 12,
   "metadata": {},
   "outputs": [
    {
     "data": {
      "text/plain": [
       "[<matplotlib.lines.Line2D at 0x7f2f99261390>]"
      ]
     },
     "execution_count": 12,
     "metadata": {},
     "output_type": "execute_result"
    },
    {
     "data": {
      "image/png": "[encoded data removed]",
      "text/plain": [
       "<Figure size 432x288 with 1 Axes>"
      ]
     },
     "metadata": {
      "needs_background": "light"
     },
     "output_type": "display_data"
    }
   ],
   "source": [
    "plt.plot(LOSSES[:])"
   ]
  },
  {
   "cell_type": "code",
   "execution_count": 13,
   "metadata": {},
   "outputs": [
    {
     "name": "stdout",
     "output_type": "stream",
     "text": [
      "tensor([[-0.3350]]) tensor([[-0.2794]])\n",
      "tensor([[-0.0256]]) tensor([[0.]])\n",
      "tensor([[0.9410]]) tensor([[0.9093]])\n",
      "tensor([[0.8572]]) tensor([[0.8415]])\n",
      "tensor([[-0.8313]]) tensor([[-0.7568]])\n",
      "tensor([[0.7869]]) tensor([[0.7568]])\n",
      "tensor([[0.7869]]) tensor([[0.7568]])\n",
      "tensor([[0.7869]]) tensor([[0.7568]])\n",
      "tensor([[-0.8313]]) tensor([[-0.7568]])\n",
      "tensor([[0.7869]]) tensor([[0.7568]])\n",
      "tensor([[-0.3350]]) tensor([[-0.2794]])\n",
      "tensor([[-0.9848]]) tensor([[-0.9093]])\n",
      "tensor([[0.2758]]) tensor([[0.2794]])\n",
      "tensor([[0.4187]]) tensor([[0.4121]])\n",
      "tensor([[0.8572]]) tensor([[0.8415]])\n",
      "tensor([[0.7869]]) tensor([[0.7568]])\n",
      "tensor([[-0.6205]]) tensor([[-0.5366]])\n",
      "tensor([[-0.1825]]) tensor([[-0.1411]])\n",
      "tensor([[-0.9848]]) tensor([[-0.9093]])\n",
      "tensor([[-1.0806]]) tensor([[-1.0000]])\n",
      "tensor([[0.2758]]) tensor([[0.2794]])\n",
      "tensor([[0.1238]]) tensor([[0.1411]])\n",
      "tensor([[0.9410]]) tensor([[0.9093]])\n",
      "tensor([[0.6694]]) tensor([[0.6570]])\n",
      "tensor([[-0.3350]]) tensor([[-0.2794]])\n",
      "tensor([[-1.0491]]) tensor([[-0.9589]])\n",
      "tensor([[0.8572]]) tensor([[0.8415]])\n",
      "tensor([[-0.9396]]) tensor([[-0.8415]])\n",
      "tensor([[0.7869]]) tensor([[0.7568]])\n",
      "tensor([[0.9771]]) tensor([[0.9589]])\n",
      "tensor([[-1.0491]]) tensor([[-0.9589]])\n",
      "tensor([[0.4187]]) tensor([[0.4121]])\n",
      "tensor([[-0.7506]]) tensor([[-0.6570]])\n",
      "tensor([[-0.1825]]) tensor([[-0.1411]])\n",
      "tensor([[0.4187]]) tensor([[0.4121]])\n",
      "tensor([[-1.0806]]) tensor([[-1.0000]])\n",
      "tensor([[-1.0806]]) tensor([[-1.0000]])\n",
      "tensor([[0.7869]]) tensor([[0.7568]])\n",
      "tensor([[-1.0806]]) tensor([[-1.0000]])\n",
      "tensor([[0.1238]]) tensor([[0.1411]])\n",
      "tensor([[-1.0491]]) tensor([[-0.9589]])\n",
      "tensor([[-0.9396]]) tensor([[-0.8415]])\n",
      "tensor([[-0.6119]]) tensor([[-0.5440]])\n",
      "tensor([[-0.6119]]) tensor([[-0.5440]])\n",
      "tensor([[-0.3350]]) tensor([[-0.2794]])\n",
      "tensor([[0.9771]]) tensor([[0.9589]])\n",
      "tensor([[0.2758]]) tensor([[0.2794]])\n",
      "tensor([[-1.0806]]) tensor([[-1.0000]])\n",
      "tensor([[0.6694]]) tensor([[0.6570]])\n",
      "tensor([[0.8572]]) tensor([[0.8415]])\n",
      "tensor([[-0.3350]]) tensor([[-0.2794]])\n",
      "tensor([[1.0157]]) tensor([[0.9894]])\n",
      "tensor([[0.9771]]) tensor([[0.9589]])\n",
      "tensor([[-1.0491]]) tensor([[-0.9589]])\n",
      "tensor([[-1.0806]]) tensor([[-1.0000]])\n",
      "tensor([[0.1238]]) tensor([[0.1411]])\n",
      "tensor([[-0.3350]]) tensor([[-0.2794]])\n",
      "tensor([[0.6694]]) tensor([[0.6570]])\n",
      "tensor([[0.9771]]) tensor([[0.9589]])\n",
      "tensor([[0.9410]]) tensor([[0.9093]])\n",
      "tensor([[-0.8313]]) tensor([[-0.7568]])\n",
      "tensor([[-0.6119]]) tensor([[-0.5440]])\n",
      "tensor([[0.7869]]) tensor([[0.7568]])\n",
      "tensor([[-0.6205]]) tensor([[-0.5366]])\n",
      "tensor([[0.9410]]) tensor([[0.9093]])\n",
      "tensor([[0.9771]]) tensor([[0.9589]])\n",
      "tensor([[-0.0256]]) tensor([[0.]])\n",
      "tensor([[-0.8313]]) tensor([[-0.7568]])\n",
      "tensor([[0.4187]]) tensor([[0.4121]])\n",
      "tensor([[-0.3350]]) tensor([[-0.2794]])\n",
      "tensor([[0.7869]]) tensor([[0.7568]])\n",
      "tensor([[0.1238]]) tensor([[0.1411]])\n",
      "tensor([[-0.3350]]) tensor([[-0.2794]])\n",
      "tensor([[-0.0256]]) tensor([[0.]])\n",
      "tensor([[0.4187]]) tensor([[0.4121]])\n",
      "tensor([[-1.0491]]) tensor([[-0.9589]])\n",
      "tensor([[-0.3350]]) tensor([[-0.2794]])\n",
      "tensor([[-0.9848]]) tensor([[-0.9093]])\n",
      "tensor([[0.1238]]) tensor([[0.1411]])\n",
      "tensor([[-1.0491]]) tensor([[-0.9589]])\n",
      "tensor([[0.8572]]) tensor([[0.8415]])\n",
      "tensor([[0.6694]]) tensor([[0.6570]])\n",
      "tensor([[0.9771]]) tensor([[0.9589]])\n",
      "tensor([[1.0157]]) tensor([[0.9894]])\n",
      "tensor([[-0.6205]]) tensor([[-0.5366]])\n",
      "tensor([[0.6694]]) tensor([[0.6570]])\n",
      "tensor([[0.1238]]) tensor([[0.1411]])\n",
      "tensor([[0.4187]]) tensor([[0.4121]])\n",
      "tensor([[0.6694]]) tensor([[0.6570]])\n",
      "tensor([[-0.6205]]) tensor([[-0.5366]])\n",
      "tensor([[-0.9396]]) tensor([[-0.8415]])\n",
      "tensor([[0.8572]]) tensor([[0.8415]])\n",
      "tensor([[-0.3350]]) tensor([[-0.2794]])\n",
      "tensor([[1.0157]]) tensor([[0.9894]])\n",
      "tensor([[0.6694]]) tensor([[0.6570]])\n",
      "tensor([[0.6694]]) tensor([[0.6570]])\n",
      "tensor([[-0.8313]]) tensor([[-0.7568]])\n",
      "tensor([[-0.8313]]) tensor([[-0.7568]])\n",
      "tensor([[-0.3350]]) tensor([[-0.2794]])\n",
      "tensor([[-1.0806]]) tensor([[-1.0000]])\n"
     ]
    }
   ],
   "source": [
    "AC = []\n",
    "PR = []\n",
    "with torch.no_grad():\n",
    "    for x, y in dataloader:\n",
    "        y_hat = model(x)\n",
    "        print(y_hat, y)\n",
    "        AC.append(y.item())\n",
    "        PR.append(y_hat.item())"
   ]
  },
  {
   "cell_type": "code",
   "execution_count": 14,
   "metadata": {},
   "outputs": [],
   "source": [
    "x, y = next(iter(dataloader))"
   ]
  },
  {
   "cell_type": "code",
   "execution_count": 15,
   "metadata": {},
   "outputs": [
    {
     "data": {
      "text/plain": [
       "[<matplotlib.lines.Line2D at 0x7f2f991f95c0>]"
      ]
     },
     "execution_count": 15,
     "metadata": {},
     "output_type": "execute_result"
    },
    {
     "data": {
      "image/png": "[encoded data removed]",
      "text/plain": [
       "<Figure size 432x288 with 1 Axes>"
      ]
     },
     "metadata": {
      "needs_background": "light"
     },
     "output_type": "display_data"
    }
   ],
   "source": [
    "plt.plot(AC)\n",
    "plt.plot(PR)"
   ]
  },
  {
   "cell_type": "code",
   "execution_count": null,
   "metadata": {},
   "outputs": [],
   "source": []
  }
 ],
 "metadata": {
  "kernelspec": {
   "display_name": "Python 3.6.9 64-bit",
   "language": "python",
   "name": "python36964bitbe4a55f02b4d487ab9d485b644b96077"
  },
  "language_info": {
   "codemirror_mode": {
    "name": "ipython",
    "version": 3
   },
   "file_extension": ".py",
   "mimetype": "text/x-python",
   "name": "python",
   "nbconvert_exporter": "python",
   "pygments_lexer": "ipython3",
   "version": "3.6.9"
  }
 },
 "nbformat": 4,
 "nbformat_minor": 2
}

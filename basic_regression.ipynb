{
 "cells": [
  {
   "cell_type": "markdown",
   "metadata": {},
   "source": [
    "We have to do linear regression problem on $y = 5x+1$"
   ]
  },
  {
   "cell_type": "code",
   "execution_count": 1,
   "metadata": {},
   "outputs": [],
   "source": [
    "import torch\n",
    "import matplotlib.pyplot as plt"
   ]
  },
  {
   "cell_type": "code",
   "execution_count": 2,
   "metadata": {},
   "outputs": [],
   "source": [
    "x = torch.arange(-20, 20, dtype=torch.float32)"
   ]
  },
  {
   "cell_type": "code",
   "execution_count": 3,
   "metadata": {},
   "outputs": [],
   "source": [
    "y = 5*x + 1"
   ]
  },
  {
   "cell_type": "code",
   "execution_count": 4,
   "metadata": {},
   "outputs": [],
   "source": [
    "# introduce some noise\n",
    "noise = torch.rand(y.shape, dtype=torch.float32)*15\n",
    "y = y + noise"
   ]
  },
  {
   "cell_type": "code",
   "execution_count": 5,
   "metadata": {},
   "outputs": [
    {
     "data": {
      "text/plain": [
       "[<matplotlib.lines.Line2D at 0x7f4a25a6a208>]"
      ]
     },
     "execution_count": 5,
     "metadata": {},
     "output_type": "execute_result"
    },
    {
     "data": {
      "image/png": "[encoded data removed]",
      "text/plain": [
       "<Figure size 432x288 with 1 Axes>"
      ]
     },
     "metadata": {
      "needs_background": "light"
     },
     "output_type": "display_data"
    }
   ],
   "source": [
    "plt.plot(x.numpy(), y.numpy(), 'o')"
   ]
  },
  {
   "cell_type": "code",
   "execution_count": 6,
   "metadata": {},
   "outputs": [],
   "source": [
    "x = x.view(-1, 1)\n",
    "y = y.view(-1, 1)"
   ]
  },
  {
   "cell_type": "markdown",
   "metadata": {},
   "source": [
    "Let's consider two parameter $w, b$"
   ]
  },
  {
   "cell_type": "code",
   "execution_count": 7,
   "metadata": {},
   "outputs": [],
   "source": [
    "w = torch.rand(1, dtype=torch.float32).view(-1, 1)\n",
    "b = torch.rand(1, dtype=torch.float32)"
   ]
  },
  {
   "cell_type": "markdown",
   "metadata": {},
   "source": [
    "$L_i = (y_i-\\hat{y_i})^2$\n",
    "\n",
    "$J(w,b) = \\frac{1}{m}\\sum L_i$\n",
    "\n",
    "$\\frac{\\partial J}{\\partial w} = \\frac{1}{m}\\sum \\frac{\\partial L_i}{\\partial w} = \\frac{1}{m}\\sum -2x_i(y_i-\\hat{y_i})$\n",
    "\n",
    "$\\frac{\\partial J}{\\partial b} = \\frac{1}{m}\\sum \\frac{\\partial L_i}{\\partial b} = \\frac{1}{m}\\sum -2(y_i-\\hat{y_i})$"
   ]
  },
  {
   "cell_type": "code",
   "execution_count": 8,
   "metadata": {},
   "outputs": [
    {
     "name": "stdout",
     "output_type": "stream",
     "text": [
      "tensor([[0.6159]]) tensor([0.9889])\n",
      "tensor([[0.7308]]) tensor([0.9899])\n",
      "tensor([[0.8426]]) tensor([0.9908])\n",
      "tensor([[0.9515]]) tensor([0.9918])\n",
      "tensor([[1.0575]]) tensor([0.9928])\n",
      "tensor([[1.1606]]) tensor([0.9937])\n",
      "tensor([[1.2609]]) tensor([0.9947])\n",
      "tensor([[1.3586]]) tensor([0.9957])\n",
      "tensor([[1.4537]]) tensor([0.9967])\n",
      "tensor([[1.5462]]) tensor([0.9978])\n",
      "tensor([[1.6363]]) tensor([0.9988])\n",
      "tensor([[1.7240]]) tensor([0.9998])\n",
      "tensor([[1.8093]]) tensor([1.0009])\n",
      "tensor([[1.8924]]) tensor([1.0019])\n",
      "tensor([[1.9732]]) tensor([1.0030])\n",
      "tensor([[2.0519]]) tensor([1.0041])\n",
      "tensor([[2.1284]]) tensor([1.0052])\n",
      "tensor([[2.2030]]) tensor([1.0062])\n",
      "tensor([[2.2755]]) tensor([1.0073])\n",
      "tensor([[2.3461]]) tensor([1.0084])\n",
      "tensor([[2.4148]]) tensor([1.0095])\n",
      "tensor([[2.4817]]) tensor([1.0107])\n",
      "tensor([[2.5468]]) tensor([1.0118])\n",
      "tensor([[2.6101]]) tensor([1.0129])\n",
      "tensor([[2.6718]]) tensor([1.0140])\n",
      "tensor([[2.7318]]) tensor([1.0152])\n",
      "tensor([[2.7902]]) tensor([1.0163])\n",
      "tensor([[2.8471]]) tensor([1.0175])\n",
      "tensor([[2.9024]]) tensor([1.0186])\n",
      "tensor([[2.9563]]) tensor([1.0198])\n",
      "tensor([[3.0087]]) tensor([1.0210])\n",
      "tensor([[3.0597]]) tensor([1.0221])\n",
      "tensor([[3.1094]]) tensor([1.0233])\n",
      "tensor([[3.1577]]) tensor([1.0245])\n",
      "tensor([[3.2048]]) tensor([1.0257])\n",
      "tensor([[3.2506]]) tensor([1.0269])\n",
      "tensor([[3.2952]]) tensor([1.0281])\n",
      "tensor([[3.3385]]) tensor([1.0293])\n",
      "tensor([[3.3807]]) tensor([1.0305])\n",
      "tensor([[3.4218]]) tensor([1.0317])\n",
      "tensor([[3.4618]]) tensor([1.0329])\n",
      "tensor([[3.5008]]) tensor([1.0341])\n",
      "tensor([[3.5387]]) tensor([1.0353])\n",
      "tensor([[3.5755]]) tensor([1.0365])\n",
      "tensor([[3.6114]]) tensor([1.0378])\n",
      "tensor([[3.6464]]) tensor([1.0390])\n",
      "tensor([[3.6804]]) tensor([1.0402])\n",
      "tensor([[3.7134]]) tensor([1.0415])\n",
      "tensor([[3.7457]]) tensor([1.0427])\n",
      "tensor([[3.7770]]) tensor([1.0439])\n",
      "tensor([[3.8075]]) tensor([1.0452])\n",
      "tensor([[3.8372]]) tensor([1.0464])\n",
      "tensor([[3.8661]]) tensor([1.0477])\n",
      "tensor([[3.8943]]) tensor([1.0489])\n",
      "tensor([[3.9216]]) tensor([1.0502])\n",
      "tensor([[3.9483]]) tensor([1.0514])\n",
      "tensor([[3.9742]]) tensor([1.0527])\n",
      "tensor([[3.9995]]) tensor([1.0540])\n",
      "tensor([[4.0241]]) tensor([1.0552])\n",
      "tensor([[4.0480]]) tensor([1.0565])\n",
      "tensor([[4.0713]]) tensor([1.0578])\n",
      "tensor([[4.0939]]) tensor([1.0590])\n",
      "tensor([[4.1160]]) tensor([1.0603])\n",
      "tensor([[4.1374]]) tensor([1.0616])\n",
      "tensor([[4.1583]]) tensor([1.0629])\n",
      "tensor([[4.1787]]) tensor([1.0641])\n",
      "tensor([[4.1985]]) tensor([1.0654])\n",
      "tensor([[4.2177]]) tensor([1.0667])\n",
      "tensor([[4.2365]]) tensor([1.0680])\n",
      "tensor([[4.2547]]) tensor([1.0693])\n",
      "tensor([[4.2725]]) tensor([1.0705])\n",
      "tensor([[4.2898]]) tensor([1.0718])\n",
      "tensor([[4.3066]]) tensor([1.0731])\n",
      "tensor([[4.3230]]) tensor([1.0744])\n",
      "tensor([[4.3389]]) tensor([1.0757])\n",
      "tensor([[4.3544]]) tensor([1.0770])\n",
      "tensor([[4.3695]]) tensor([1.0783])\n",
      "tensor([[4.3842]]) tensor([1.0796])\n",
      "tensor([[4.3985]]) tensor([1.0809])\n",
      "tensor([[4.4124]]) tensor([1.0822])\n",
      "tensor([[4.4260]]) tensor([1.0835])\n",
      "tensor([[4.4392]]) tensor([1.0848])\n",
      "tensor([[4.4520]]) tensor([1.0861])\n",
      "tensor([[4.4645]]) tensor([1.0874])\n",
      "tensor([[4.4767]]) tensor([1.0887])\n",
      "tensor([[4.4885]]) tensor([1.0900])\n",
      "tensor([[4.5000]]) tensor([1.0913])\n",
      "tensor([[4.5112]]) tensor([1.0926])\n",
      "tensor([[4.5222]]) tensor([1.0939])\n",
      "tensor([[4.5328]]) tensor([1.0952])\n",
      "tensor([[4.5431]]) tensor([1.0965])\n",
      "tensor([[4.5532]]) tensor([1.0979])\n",
      "tensor([[4.5630]]) tensor([1.0992])\n",
      "tensor([[4.5725]]) tensor([1.1005])\n",
      "tensor([[4.5818]]) tensor([1.1018])\n",
      "tensor([[4.5908]]) tensor([1.1031])\n",
      "tensor([[4.5996]]) tensor([1.1044])\n",
      "tensor([[4.6082]]) tensor([1.1057])\n",
      "tensor([[4.6165]]) tensor([1.1070])\n",
      "tensor([[4.6246]]) tensor([1.1084])\n"
     ]
    }
   ],
   "source": [
    "learning_rate = .0001\n",
    "num_epoch = 100\n",
    "for epoch in range(100):\n",
    "    y_hat = torch.matmul(x, w) + b\n",
    "    Loss = (y-y_hat)**2\n",
    "    dw = torch.sum(2*(y-y_hat)*(-x))/x.shape[0]\n",
    "    db = torch.sum(2*(y-y_hat)*(-1))/x.shape[0]\n",
    "    w -= learning_rate*dw\n",
    "    b -= learning_rate*db\n",
    "    print(w, b)"
   ]
  },
  {
   "cell_type": "code",
   "execution_count": 9,
   "metadata": {},
   "outputs": [
    {
     "data": {
      "text/plain": [
       "[<matplotlib.lines.Line2D at 0x7f4a25a3b9e8>]"
      ]
     },
     "execution_count": 9,
     "metadata": {},
     "output_type": "execute_result"
    },
    {
     "data": {
      "image/png": "[encoded data removed]",
      "text/plain": [
       "<Figure size 432x288 with 1 Axes>"
      ]
     },
     "metadata": {
      "needs_background": "light"
     },
     "output_type": "display_data"
    }
   ],
   "source": [
    "plt.plot(x.view(-1).numpy(), y_hat.view(-1).numpy(), 'o')\n",
    "plt.plot(x.view(-1).numpy(), y.view(-1).numpy(), 'o')"
   ]
  },
  {
   "cell_type": "code",
   "execution_count": null,
   "metadata": {},
   "outputs": [],
   "source": []
  }
 ],
 "metadata": {
  "kernelspec": {
   "display_name": "Python 3.6.9 64-bit",
   "language": "python",
   "name": "python36964bitbe4a55f02b4d487ab9d485b644b96077"
  },
  "language_info": {
   "codemirror_mode": {
    "name": "ipython",
    "version": 3
   },
   "file_extension": ".py",
   "mimetype": "text/x-python",
   "name": "python",
   "nbconvert_exporter": "python",
   "pygments_lexer": "ipython3",
   "version": "3.6.9"
  }
 },
 "nbformat": 4,
 "nbformat_minor": 2
}

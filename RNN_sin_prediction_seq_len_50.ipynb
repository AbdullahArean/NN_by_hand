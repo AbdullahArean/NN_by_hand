{
 "cells": [
  {
   "cell_type": "code",
   "execution_count": 1,
   "metadata": {},
   "outputs": [],
   "source": [
    "import matplotlib.pyplot as plt\n",
    "import torch\n",
    "from torch import nn"
   ]
  },
  {
   "cell_type": "code",
   "execution_count": 2,
   "metadata": {},
   "outputs": [],
   "source": [
    "from torch.utils.data.dataset import Dataset\n",
    "\n",
    "class RNNData(Dataset):\n",
    "    def __init__(self):\n",
    "        pass\n",
    "    \n",
    "    def __len__(self):\n",
    "        return 100\n",
    "    \n",
    "    def __getitem__(self, index):\n",
    "        L = torch.randint(-10, 10, (1,)).item()\n",
    "        self.x = torch.sin(torch.linspace(L, L+3., 51))\n",
    "        self.x = self.x.view(len(self.x), -1)\n",
    "        return self.x[:50], self.x[-1]"
   ]
  },
  {
   "cell_type": "code",
   "execution_count": 3,
   "metadata": {},
   "outputs": [],
   "source": [
    "dataset = RNNData()"
   ]
  },
  {
   "cell_type": "code",
   "execution_count": 4,
   "metadata": {
    "scrolled": true
   },
   "outputs": [
    {
     "data": {
      "text/plain": [
       "(tensor([[ 0.6570],\n",
       "         [ 0.7010],\n",
       "         [ 0.7425],\n",
       "         [ 0.7813],\n",
       "         [ 0.8174],\n",
       "         [ 0.8504],\n",
       "         [ 0.8805],\n",
       "         [ 0.9073],\n",
       "         [ 0.9309],\n",
       "         [ 0.9511],\n",
       "         [ 0.9679],\n",
       "         [ 0.9812],\n",
       "         [ 0.9910],\n",
       "         [ 0.9973],\n",
       "         [ 0.9999],\n",
       "         [ 0.9989],\n",
       "         [ 0.9944],\n",
       "         [ 0.9863],\n",
       "         [ 0.9746],\n",
       "         [ 0.9594],\n",
       "         [ 0.9407],\n",
       "         [ 0.9187],\n",
       "         [ 0.8934],\n",
       "         [ 0.8648],\n",
       "         [ 0.8331],\n",
       "         [ 0.7985],\n",
       "         [ 0.7610],\n",
       "         [ 0.7207],\n",
       "         [ 0.6778],\n",
       "         [ 0.6325],\n",
       "         [ 0.5849],\n",
       "         [ 0.5352],\n",
       "         [ 0.4836],\n",
       "         [ 0.4303],\n",
       "         [ 0.3754],\n",
       "         [ 0.3191],\n",
       "         [ 0.2617],\n",
       "         [ 0.2033],\n",
       "         [ 0.1443],\n",
       "         [ 0.0847],\n",
       "         [ 0.0248],\n",
       "         [-0.0352],\n",
       "         [-0.0951],\n",
       "         [-0.1546],\n",
       "         [-0.2136],\n",
       "         [-0.2718],\n",
       "         [-0.3290],\n",
       "         [-0.3850],\n",
       "         [-0.4397],\n",
       "         [-0.4927]]),\n",
       " tensor([-0.5440]))"
      ]
     },
     "execution_count": 4,
     "metadata": {},
     "output_type": "execute_result"
    }
   ],
   "source": [
    "dataset[25]"
   ]
  },
  {
   "cell_type": "code",
   "execution_count": 5,
   "metadata": {},
   "outputs": [],
   "source": [
    "from torch.utils.data import DataLoader\n",
    "\n",
    "batch_size = 1\n",
    "\n",
    "dataloader = DataLoader(dataset, batch_size = batch_size)"
   ]
  },
  {
   "cell_type": "code",
   "execution_count": 6,
   "metadata": {},
   "outputs": [],
   "source": [
    "class RNNModel(torch.nn.Module):\n",
    "    def __init__(self):\n",
    "        super(RNNModel, self).__init__()\n",
    "        self.hidden_size = 4\n",
    "        self.rnn = torch.nn.RNN(input_size = 1, hidden_size = self.hidden_size, num_layers=1, batch_first=True)\n",
    "        self.linear = torch.nn.Linear(self.hidden_size, 1)\n",
    "    \n",
    "    def forward(self, x):\n",
    "        out, hid = self.rnn(x)\n",
    "        out = self.linear(out[:,-1,:])\n",
    "        return out"
   ]
  },
  {
   "cell_type": "code",
   "execution_count": 7,
   "metadata": {},
   "outputs": [],
   "source": [
    "model = RNNModel()"
   ]
  },
  {
   "cell_type": "code",
   "execution_count": 8,
   "metadata": {},
   "outputs": [],
   "source": [
    "criterion = torch.nn.MSELoss() "
   ]
  },
  {
   "cell_type": "code",
   "execution_count": 9,
   "metadata": {},
   "outputs": [],
   "source": [
    "optimizer = torch.optim.Adam(model.parameters(), lr=.01)"
   ]
  },
  {
   "cell_type": "code",
   "execution_count": 10,
   "metadata": {},
   "outputs": [],
   "source": [
    "class AverageMeter:\n",
    "    def __init__(self):\n",
    "        self.val = 0.\n",
    "        self.avg = 0.\n",
    "        self.sum = 0.\n",
    "        self.count = 0.\n",
    "    \n",
    "    def update(self, val, n = 1):\n",
    "        self.val = val\n",
    "        self.sum = self.sum + val*n\n",
    "        self.count = self.count + n\n",
    "        self.avg = self.sum / self.count\n",
    "    \n",
    "    def get_avg(self):\n",
    "        return self.avg"
   ]
  },
  {
   "cell_type": "code",
   "execution_count": 11,
   "metadata": {},
   "outputs": [
    {
     "name": "stdout",
     "output_type": "stream",
     "text": [
      "Epoch: 0 Loss: 0.0007160169188864529\n",
      "Epoch: 1 Loss: 0.002938847756013274\n",
      "Epoch: 2 Loss: 0.0013417050940915942\n",
      "Epoch: 3 Loss: 3.0905102903489023e-05\n",
      "Epoch: 4 Loss: 0.0027224530931562185\n",
      "Epoch: 5 Loss: 0.00026805687230080366\n",
      "Epoch: 6 Loss: 0.0001330518425675109\n",
      "Epoch: 7 Loss: 0.0004132197063881904\n",
      "Epoch: 8 Loss: 1.8235878087580204e-06\n",
      "Epoch: 9 Loss: 0.0006693322211503983\n",
      "Epoch: 10 Loss: 6.516920166177442e-06\n",
      "Epoch: 11 Loss: 0.00014094139623921365\n",
      "Epoch: 12 Loss: 0.000795678817667067\n",
      "Epoch: 13 Loss: 6.447990017477423e-07\n",
      "Epoch: 14 Loss: 9.030729586356756e-08\n",
      "Epoch: 15 Loss: 1.4011334315000568e-09\n",
      "Epoch: 16 Loss: 1.8926188204204664e-05\n",
      "Epoch: 17 Loss: 7.71072882344015e-05\n",
      "Epoch: 18 Loss: 0.00023144844453781843\n",
      "Epoch: 19 Loss: 0.001121827750466764\n",
      "Epoch: 20 Loss: 0.0013235092628747225\n",
      "Epoch: 21 Loss: 1.0218614079349209e-05\n",
      "Epoch: 22 Loss: 2.354756588829332e-06\n",
      "Epoch: 23 Loss: 3.4523577596701216e-07\n",
      "Epoch: 24 Loss: 0.0012230166466906667\n",
      "Epoch: 25 Loss: 0.00013398300507105887\n",
      "Epoch: 26 Loss: 4.934112894261489e-06\n",
      "Epoch: 27 Loss: 0.0001407348463544622\n",
      "Epoch: 28 Loss: 0.00015165421064011753\n",
      "Epoch: 29 Loss: 1.665075757273371e-07\n",
      "Epoch: 30 Loss: 6.289499287959188e-05\n",
      "Epoch: 31 Loss: 0.0008093726937659085\n",
      "Epoch: 32 Loss: 0.0005005707498639822\n",
      "Epoch: 33 Loss: 2.8613185349968262e-05\n",
      "Epoch: 34 Loss: 0.0003132948186248541\n",
      "Epoch: 35 Loss: 8.992974471766502e-06\n",
      "Epoch: 36 Loss: 0.0011228142539039254\n",
      "Epoch: 37 Loss: 0.00045814772602170706\n",
      "Epoch: 38 Loss: 1.648759462113958e-05\n",
      "Epoch: 39 Loss: 0.0001766950881574303\n",
      "Epoch: 40 Loss: 0.00023281609173864126\n",
      "Epoch: 41 Loss: 1.7331401522824308e-06\n",
      "Epoch: 42 Loss: 9.481324525495438e-08\n",
      "Epoch: 43 Loss: 1.3052442227490246e-05\n",
      "Epoch: 44 Loss: 6.451258286688244e-06\n",
      "Epoch: 45 Loss: 2.8892202408314915e-07\n",
      "Epoch: 46 Loss: 8.908780728233978e-05\n",
      "Epoch: 47 Loss: 1.5652451111236587e-05\n",
      "Epoch: 48 Loss: 1.458570022805361e-05\n",
      "Epoch: 49 Loss: 7.706986252742354e-06\n",
      "Epoch: 50 Loss: 1.1895757779711857e-05\n",
      "Epoch: 51 Loss: 5.994021921651438e-05\n",
      "Epoch: 52 Loss: 1.4904177078278735e-05\n",
      "Epoch: 53 Loss: 0.00034186747507192194\n",
      "Epoch: 54 Loss: 9.831656643655151e-05\n",
      "Epoch: 55 Loss: 7.893097790656611e-05\n",
      "Epoch: 56 Loss: 0.0003208878042642027\n",
      "Epoch: 57 Loss: 0.0006982745253480971\n",
      "Epoch: 58 Loss: 0.001367275952361524\n",
      "Epoch: 59 Loss: 6.435220711864531e-06\n",
      "Epoch: 60 Loss: 0.00041946853161789477\n",
      "Epoch: 61 Loss: 0.0001048018311848864\n",
      "Epoch: 62 Loss: 0.003409923519939184\n",
      "Epoch: 63 Loss: 2.6565382995613618e-06\n",
      "Epoch: 64 Loss: 9.619577031116933e-05\n",
      "Epoch: 65 Loss: 0.0004477130714803934\n",
      "Epoch: 66 Loss: 3.3434375268370786e-07\n",
      "Epoch: 67 Loss: 0.00019079289631918073\n",
      "Epoch: 68 Loss: 0.00010647549788700417\n",
      "Epoch: 69 Loss: 0.0025665154680609703\n",
      "Epoch: 70 Loss: 0.00011806836118921638\n",
      "Epoch: 71 Loss: 0.00012864611926488578\n",
      "Epoch: 72 Loss: 1.326918209088035e-06\n",
      "Epoch: 73 Loss: 0.00013151760504115373\n",
      "Epoch: 74 Loss: 0.0003814813680946827\n",
      "Epoch: 75 Loss: 0.00017784102237783372\n",
      "Epoch: 76 Loss: 0.0004246064636390656\n",
      "Epoch: 77 Loss: 8.391401206608862e-05\n",
      "Epoch: 78 Loss: 0.0003631706058513373\n",
      "Epoch: 79 Loss: 3.235008625779301e-05\n",
      "Epoch: 80 Loss: 0.00012797804083675146\n",
      "Epoch: 81 Loss: 1.5072861970111262e-05\n",
      "Epoch: 82 Loss: 1.4827419363427907e-05\n",
      "Epoch: 83 Loss: 1.596241600054782e-05\n",
      "Epoch: 84 Loss: 1.8770922906696796e-05\n",
      "Epoch: 85 Loss: 7.525684486608952e-05\n",
      "Epoch: 86 Loss: 8.694487974025833e-08\n",
      "Epoch: 87 Loss: 8.525192242814228e-06\n",
      "Epoch: 88 Loss: 4.115234696655534e-05\n",
      "Epoch: 89 Loss: 0.010300260968506336\n",
      "Epoch: 90 Loss: 0.00042502416181378067\n",
      "Epoch: 91 Loss: 1.6867925296537578e-05\n",
      "Epoch: 92 Loss: 2.3526531549578067e-06\n",
      "Epoch: 93 Loss: 4.4014541344949976e-06\n",
      "Epoch: 94 Loss: 4.241496753820684e-06\n",
      "Epoch: 95 Loss: 7.246137101901695e-06\n",
      "Epoch: 96 Loss: 4.790461844095262e-06\n",
      "Epoch: 97 Loss: 5.992229944240535e-06\n",
      "Epoch: 98 Loss: 4.141583360706136e-07\n",
      "Epoch: 99 Loss: 0.00015404915029648691\n"
     ]
    }
   ],
   "source": [
    "LOSSES = []\n",
    "\n",
    "for epoch in range(100):\n",
    "    \n",
    "    averagemeter = AverageMeter()\n",
    "    \n",
    "    for x, y in dataloader:\n",
    "        h_0 = torch.zeros(1,10,1)\n",
    "        y_hat = model(x)\n",
    "        loss = criterion(y_hat, y)\n",
    "        optimizer.zero_grad()\n",
    "        loss.backward()\n",
    "        optimizer.step()\n",
    "        averagemeter.update(val=loss.item())\n",
    "    \n",
    "    LOSSES.append(averagemeter.get_avg())\n",
    "    print(f\"Epoch: {epoch} Loss: {loss.item()}\")"
   ]
  },
  {
   "cell_type": "code",
   "execution_count": 12,
   "metadata": {},
   "outputs": [
    {
     "data": {
      "text/plain": [
       "[<matplotlib.lines.Line2D at 0x7fe0e57af390>]"
      ]
     },
     "execution_count": 12,
     "metadata": {},
     "output_type": "execute_result"
    },
    {
     "data": {
      "image/png": "[encoded data removed]",
      "text/plain": [
       "<Figure size 432x288 with 1 Axes>"
      ]
     },
     "metadata": {
      "needs_background": "light"
     },
     "output_type": "display_data"
    }
   ],
   "source": [
    "plt.plot(LOSSES[:])"
   ]
  },
  {
   "cell_type": "code",
   "execution_count": 13,
   "metadata": {},
   "outputs": [
    {
     "name": "stdout",
     "output_type": "stream",
     "text": [
      "tensor([[0.2729]]) tensor([[0.2794]])\n",
      "tensor([[-0.9686]]) tensor([[-0.9589]])\n",
      "tensor([[0.6433]]) tensor([[0.6570]])\n",
      "tensor([[-0.5468]]) tensor([[-0.5366]])\n",
      "tensor([[0.9042]]) tensor([[0.9093]])\n",
      "tensor([[0.9459]]) tensor([[0.9589]])\n",
      "tensor([[-0.7575]]) tensor([[-0.7568]])\n",
      "tensor([[-1.0059]]) tensor([[-1.0000]])\n",
      "tensor([[-0.2860]]) tensor([[-0.2794]])\n",
      "tensor([[-0.1512]]) tensor([[-0.1411]])\n",
      "tensor([[0.6433]]) tensor([[0.6570]])\n",
      "tensor([[0.9459]]) tensor([[0.9589]])\n",
      "tensor([[-0.0042]]) tensor([[0.]])\n",
      "tensor([[0.4049]]) tensor([[0.4121]])\n",
      "tensor([[0.4049]]) tensor([[0.4121]])\n",
      "tensor([[0.9459]]) tensor([[0.9589]])\n",
      "tensor([[-0.0042]]) tensor([[0.]])\n",
      "tensor([[-0.8545]]) tensor([[-0.8415]])\n",
      "tensor([[0.2729]]) tensor([[0.2794]])\n",
      "tensor([[0.2729]]) tensor([[0.2794]])\n",
      "tensor([[-0.9686]]) tensor([[-0.9589]])\n",
      "tensor([[-0.1512]]) tensor([[-0.1411]])\n",
      "tensor([[0.1311]]) tensor([[0.1411]])\n",
      "tensor([[-0.6692]]) tensor([[-0.6570]])\n",
      "tensor([[-0.6692]]) tensor([[-0.6570]])\n",
      "tensor([[0.2729]]) tensor([[0.2794]])\n",
      "tensor([[-0.0042]]) tensor([[0.]])\n",
      "tensor([[-0.9095]]) tensor([[-0.9093]])\n",
      "tensor([[-0.8545]]) tensor([[-0.8415]])\n",
      "tensor([[-0.6692]]) tensor([[-0.6570]])\n",
      "tensor([[0.1311]]) tensor([[0.1411]])\n",
      "tensor([[-0.8545]]) tensor([[-0.8415]])\n",
      "tensor([[-0.5483]]) tensor([[-0.5440]])\n",
      "tensor([[-0.9686]]) tensor([[-0.9589]])\n",
      "tensor([[-0.5483]]) tensor([[-0.5440]])\n",
      "tensor([[-0.6692]]) tensor([[-0.6570]])\n",
      "tensor([[-0.0042]]) tensor([[0.]])\n",
      "tensor([[-0.6692]]) tensor([[-0.6570]])\n",
      "tensor([[-0.9095]]) tensor([[-0.9093]])\n",
      "tensor([[-0.7575]]) tensor([[-0.7568]])\n",
      "tensor([[0.8260]]) tensor([[0.8415]])\n",
      "tensor([[0.1311]]) tensor([[0.1411]])\n",
      "tensor([[-0.0042]]) tensor([[0.]])\n",
      "tensor([[0.9459]]) tensor([[0.9589]])\n",
      "tensor([[-0.6692]]) tensor([[-0.6570]])\n",
      "tensor([[-0.6692]]) tensor([[-0.6570]])\n",
      "tensor([[0.9459]]) tensor([[0.9589]])\n",
      "tensor([[0.1311]]) tensor([[0.1411]])\n",
      "tensor([[0.4049]]) tensor([[0.4121]])\n",
      "tensor([[-0.7575]]) tensor([[-0.7568]])\n",
      "tensor([[0.2729]]) tensor([[0.2794]])\n",
      "tensor([[0.1311]]) tensor([[0.1411]])\n",
      "tensor([[-1.0059]]) tensor([[-1.0000]])\n",
      "tensor([[-0.9095]]) tensor([[-0.9093]])\n",
      "tensor([[-0.0042]]) tensor([[0.]])\n",
      "tensor([[0.6433]]) tensor([[0.6570]])\n",
      "tensor([[-0.5483]]) tensor([[-0.5440]])\n",
      "tensor([[0.2729]]) tensor([[0.2794]])\n",
      "tensor([[-0.8545]]) tensor([[-0.8415]])\n",
      "tensor([[-0.7575]]) tensor([[-0.7568]])\n",
      "tensor([[0.2729]]) tensor([[0.2794]])\n",
      "tensor([[0.8260]]) tensor([[0.8415]])\n",
      "tensor([[-0.0042]]) tensor([[0.]])\n",
      "tensor([[-0.9095]]) tensor([[-0.9093]])\n",
      "tensor([[-1.0059]]) tensor([[-1.0000]])\n",
      "tensor([[0.2729]]) tensor([[0.2794]])\n",
      "tensor([[-0.9686]]) tensor([[-0.9589]])\n",
      "tensor([[-0.9686]]) tensor([[-0.9589]])\n",
      "tensor([[-0.5468]]) tensor([[-0.5366]])\n",
      "tensor([[-0.9095]]) tensor([[-0.9093]])\n",
      "tensor([[0.9042]]) tensor([[0.9093]])\n",
      "tensor([[0.9459]]) tensor([[0.9589]])\n",
      "tensor([[0.9815]]) tensor([[0.9894]])\n",
      "tensor([[0.6433]]) tensor([[0.6570]])\n",
      "tensor([[0.6433]]) tensor([[0.6570]])\n",
      "tensor([[-0.5483]]) tensor([[-0.5440]])\n",
      "tensor([[-0.5483]]) tensor([[-0.5440]])\n",
      "tensor([[-0.8545]]) tensor([[-0.8415]])\n",
      "tensor([[0.6433]]) tensor([[0.6570]])\n",
      "tensor([[0.7533]]) tensor([[0.7568]])\n",
      "tensor([[-0.9686]]) tensor([[-0.9589]])\n",
      "tensor([[0.9042]]) tensor([[0.9093]])\n",
      "tensor([[-0.5483]]) tensor([[-0.5440]])\n",
      "tensor([[-0.5468]]) tensor([[-0.5366]])\n",
      "tensor([[-0.5468]]) tensor([[-0.5366]])\n",
      "tensor([[0.9815]]) tensor([[0.9894]])\n",
      "tensor([[0.6433]]) tensor([[0.6570]])\n",
      "tensor([[0.1311]]) tensor([[0.1411]])\n",
      "tensor([[-0.7575]]) tensor([[-0.7568]])\n",
      "tensor([[-1.0059]]) tensor([[-1.0000]])\n",
      "tensor([[-0.9095]]) tensor([[-0.9093]])\n",
      "tensor([[-0.5483]]) tensor([[-0.5440]])\n",
      "tensor([[-0.8545]]) tensor([[-0.8415]])\n",
      "tensor([[-0.2860]]) tensor([[-0.2794]])\n",
      "tensor([[-0.2860]]) tensor([[-0.2794]])\n",
      "tensor([[-0.0042]]) tensor([[0.]])\n",
      "tensor([[0.8260]]) tensor([[0.8415]])\n",
      "tensor([[0.9042]]) tensor([[0.9093]])\n",
      "tensor([[0.1311]]) tensor([[0.1411]])\n",
      "tensor([[0.9815]]) tensor([[0.9894]])\n"
     ]
    }
   ],
   "source": [
    "AC = []\n",
    "PR = []\n",
    "with torch.no_grad():\n",
    "    for x, y in dataloader:\n",
    "        y_hat = model(x)\n",
    "        print(y_hat, y)\n",
    "        AC.append(y.item())\n",
    "        PR.append(y_hat.item())"
   ]
  },
  {
   "cell_type": "code",
   "execution_count": 14,
   "metadata": {},
   "outputs": [],
   "source": [
    "x, y = next(iter(dataloader))"
   ]
  },
  {
   "cell_type": "code",
   "execution_count": 15,
   "metadata": {},
   "outputs": [
    {
     "data": {
      "text/plain": [
       "[<matplotlib.lines.Line2D at 0x7fe0e573e9b0>]"
      ]
     },
     "execution_count": 15,
     "metadata": {},
     "output_type": "execute_result"
    },
    {
     "data": {
      "image/png": "[encoded data removed]",
      "text/plain": [
       "<Figure size 432x288 with 1 Axes>"
      ]
     },
     "metadata": {
      "needs_background": "light"
     },
     "output_type": "display_data"
    }
   ],
   "source": [
    "plt.plot(AC)\n",
    "plt.plot(PR)"
   ]
  },
  {
   "cell_type": "code",
   "execution_count": null,
   "metadata": {},
   "outputs": [],
   "source": []
  }
 ],
 "metadata": {
  "kernelspec": {
   "display_name": "Python 3.6.9 64-bit",
   "language": "python",
   "name": "python36964bitbe4a55f02b4d487ab9d485b644b96077"
  },
  "language_info": {
   "codemirror_mode": {
    "name": "ipython",
    "version": 3
   },
   "file_extension": ".py",
   "mimetype": "text/x-python",
   "name": "python",
   "nbconvert_exporter": "python",
   "pygments_lexer": "ipython3",
   "version": "3.6.9"
  }
 },
 "nbformat": 4,
 "nbformat_minor": 2
}

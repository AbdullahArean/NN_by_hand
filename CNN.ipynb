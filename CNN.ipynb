{
 "cells": [
  {
   "cell_type": "markdown",
   "metadata": {},
   "source": [
    "# Fashion MNIST dataset is given. Classify them"
   ]
  },
  {
   "cell_type": "code",
   "execution_count": 65,
   "metadata": {},
   "outputs": [],
   "source": [
    "import torch\n",
    "import torchvision\n",
    "import matplotlib.pyplot as plt"
   ]
  },
  {
   "cell_type": "code",
   "execution_count": null,
   "metadata": {},
   "outputs": [],
   "source": []
  },
  {
   "cell_type": "markdown",
   "metadata": {},
   "source": [
    "# Load the dataset"
   ]
  },
  {
   "cell_type": "code",
   "execution_count": 2,
   "metadata": {
    "scrolled": true
   },
   "outputs": [
    {
     "name": "stderr",
     "output_type": "stream",
     "text": [
      "\r",
      "0it [00:00, ?it/s]"
     ]
    },
    {
     "name": "stdout",
     "output_type": "stream",
     "text": [
      "Downloading http://fashion-mnist.s3-website.eu-central-1.amazonaws.com/train-images-idx3-ubyte.gz to ./FashionMNIST/FashionMNIST/raw/train-images-idx3-ubyte.gz\n"
     ]
    },
    {
     "name": "stderr",
     "output_type": "stream",
     "text": [
      "100%|█████████▉| 26402816/26421880 [01:16<00:00, 429656.35it/s] "
     ]
    },
    {
     "name": "stdout",
     "output_type": "stream",
     "text": [
      "Extracting ./FashionMNIST/FashionMNIST/raw/train-images-idx3-ubyte.gz\n"
     ]
    },
    {
     "name": "stderr",
     "output_type": "stream",
     "text": [
      "\n",
      "0it [00:00, ?it/s]\u001b[A"
     ]
    },
    {
     "name": "stdout",
     "output_type": "stream",
     "text": [
      "Downloading http://fashion-mnist.s3-website.eu-central-1.amazonaws.com/train-labels-idx1-ubyte.gz to ./FashionMNIST/FashionMNIST/raw/train-labels-idx1-ubyte.gz\n"
     ]
    },
    {
     "name": "stderr",
     "output_type": "stream",
     "text": [
      "\n",
      "  0%|          | 0/29515 [00:00<?, ?it/s]\u001b[A\n",
      " 56%|█████▌    | 16384/29515 [00:01<00:00, 40146.47it/s]\u001b[A\n",
      " 83%|████████▎ | 24576/29515 [00:01<00:00, 32675.35it/s]\u001b[A\n",
      "32768it [00:01, 20067.13it/s]                           \u001b[A\n",
      "0it [00:00, ?it/s]\u001b[A"
     ]
    },
    {
     "name": "stdout",
     "output_type": "stream",
     "text": [
      "Extracting ./FashionMNIST/FashionMNIST/raw/train-labels-idx1-ubyte.gz\n",
      "Downloading http://fashion-mnist.s3-website.eu-central-1.amazonaws.com/t10k-images-idx3-ubyte.gz to ./FashionMNIST/FashionMNIST/raw/t10k-images-idx3-ubyte.gz\n"
     ]
    },
    {
     "name": "stderr",
     "output_type": "stream",
     "text": [
      "\n",
      "  0%|          | 0/4422102 [00:00<?, ?it/s]\u001b[A\n",
      "  0%|          | 16384/4422102 [00:01<01:25, 51275.58it/s]\u001b[A\n",
      "  1%|          | 24576/4422102 [00:01<02:02, 35828.16it/s]\u001b[A\n",
      "  1%|          | 32768/4422102 [00:02<02:31, 28927.84it/s]\u001b[A\n",
      "  1%|          | 40960/4422102 [00:02<02:51, 25506.44it/s]\u001b[A\n",
      "  1%|          | 49152/4422102 [00:03<03:39, 19937.46it/s]\u001b[A\n",
      "  1%|▏         | 65536/4422102 [00:03<03:21, 21624.10it/s]\u001b[A\n",
      "  2%|▏         | 73728/4422102 [00:04<03:32, 20482.91it/s]\u001b[A\n",
      "  2%|▏         | 81920/4422102 [00:04<03:34, 20244.00it/s]\u001b[A\n",
      "  2%|▏         | 90112/4422102 [00:04<03:27, 20877.14it/s]\u001b[A\n",
      "  2%|▏         | 98304/4422102 [00:05<03:29, 20613.50it/s]\u001b[A\n",
      "  3%|▎         | 114688/4422102 [00:05<02:58, 24088.29it/s]\u001b[A\n",
      "  3%|▎         | 131072/4422102 [00:06<02:36, 27353.73it/s]\u001b[A\n",
      "  3%|▎         | 147456/4422102 [00:06<02:21, 30267.65it/s]\u001b[A\n",
      "  4%|▍         | 180224/4422102 [00:07<02:26, 29050.28it/s]\u001b[A\n",
      "  5%|▌         | 221184/4422102 [00:08<02:06, 33250.11it/s]\u001b[A\n",
      "  6%|▌         | 245760/4422102 [00:09<01:59, 35045.59it/s]\u001b[A\n",
      "  6%|▌         | 270336/4422102 [00:09<01:43, 40029.25it/s]\u001b[A\n",
      "26427392it [01:30, 429656.35it/s]                              \n",
      "  7%|▋         | 319488/4422102 [00:11<02:16, 30085.77it/s]\u001b[A\n",
      "  8%|▊         | 352256/4422102 [00:12<01:57, 34629.55it/s]\u001b[A\n",
      "  9%|▊         | 376832/4422102 [00:12<01:52, 36034.70it/s]\u001b[A\n",
      "  9%|▉         | 393216/4422102 [00:13<01:48, 37216.00it/s]\u001b[A\n",
      "  9%|▉         | 417792/4422102 [00:13<01:35, 41986.46it/s]\u001b[A\n",
      " 10%|█         | 450560/4422102 [00:13<01:21, 48940.00it/s]\u001b[A\n",
      " 11%|█         | 475136/4422102 [00:14<01:16, 51870.95it/s]\u001b[A\n",
      " 11%|█▏        | 499712/4422102 [00:14<01:14, 52787.42it/s]\u001b[A\n",
      " 12%|█▏        | 532480/4422102 [00:15<01:04, 60671.64it/s]\u001b[A\n",
      " 13%|█▎        | 557056/4422102 [00:15<01:04, 59517.47it/s]\u001b[A\n",
      " 13%|█▎        | 589824/4422102 [00:16<00:59, 64496.50it/s]\u001b[A\n",
      " 14%|█▍        | 614400/4422102 [00:16<01:00, 63047.02it/s]\u001b[A\n",
      " 15%|█▍        | 647168/4422102 [00:16<00:55, 67918.86it/s]\u001b[A\n",
      " 15%|█▌        | 679936/4422102 [00:17<00:53, 70498.89it/s]\u001b[A\n",
      " 16%|█▌        | 696320/4422102 [00:17<01:19, 47008.92it/s]\u001b[A\n",
      " 16%|█▌        | 712704/4422102 [00:18<02:04, 29768.86it/s]\u001b[A\n",
      " 17%|█▋        | 770048/4422102 [00:19<01:37, 37428.94it/s]\u001b[A\n",
      " 18%|█▊        | 802816/4422102 [00:19<01:19, 45638.62it/s]\u001b[A\n",
      " 18%|█▊        | 811008/4422102 [00:19<01:13, 48831.74it/s]\u001b[A\n",
      " 19%|█▉        | 835584/4422102 [00:20<01:03, 56097.47it/s]\u001b[A\n",
      " 20%|█▉        | 868352/4422102 [00:20<00:55, 63772.26it/s]\u001b[A\n",
      " 20%|██        | 901120/4422102 [00:20<00:43, 81751.75it/s]\u001b[A\n",
      " 21%|██        | 917504/4422102 [00:21<00:47, 73355.35it/s]\u001b[A\n",
      " 21%|██▏       | 942080/4422102 [00:21<00:54, 63536.27it/s]\u001b[A\n",
      " 22%|██▏       | 974848/4422102 [00:21<00:47, 71834.58it/s]\u001b[A\n",
      " 23%|██▎       | 1015808/4422102 [00:22<00:45, 74521.44it/s]\u001b[A\n",
      " 24%|██▎       | 1048576/4422102 [00:22<00:44, 76027.28it/s]\u001b[A\n",
      " 25%|██▍       | 1089536/4422102 [00:23<00:40, 81943.15it/s]\u001b[A\n",
      " 26%|██▌       | 1130496/4422102 [00:23<00:38, 86513.65it/s]\u001b[A\n",
      " 26%|██▋       | 1163264/4422102 [00:24<00:44, 73102.53it/s]\u001b[A\n",
      " 26%|██▋       | 1171456/4422102 [00:24<01:46, 30607.19it/s]\u001b[A\n",
      " 27%|██▋       | 1212416/4422102 [00:25<01:22, 38820.68it/s]\u001b[A\n",
      " 28%|██▊       | 1253376/4422102 [00:25<01:06, 47471.67it/s]\u001b[A\n",
      " 29%|██▉       | 1277952/4422102 [00:26<01:01, 50816.81it/s]\u001b[A\n",
      " 30%|██▉       | 1310720/4422102 [00:26<00:54, 57043.10it/s]\u001b[A\n",
      " 31%|███       | 1351680/4422102 [00:27<01:00, 50526.98it/s]\u001b[A\n",
      " 32%|███▏      | 1417216/4422102 [00:27<00:47, 63622.14it/s]\u001b[A\n",
      " 33%|███▎      | 1441792/4422102 [00:28<00:47, 62548.27it/s]\u001b[A\n",
      " 33%|███▎      | 1474560/4422102 [00:29<01:06, 44550.50it/s]\u001b[A\n",
      " 34%|███▍      | 1523712/4422102 [00:29<00:52, 54894.54it/s]\u001b[A\n",
      " 35%|███▌      | 1548288/4422102 [00:30<00:51, 56270.39it/s]\u001b[A\n",
      " 36%|███▌      | 1581056/4422102 [00:30<00:45, 61854.67it/s]\u001b[A\n",
      " 36%|███▋      | 1613824/4422102 [00:31<00:47, 58935.08it/s]\u001b[A\n",
      " 37%|███▋      | 1646592/4422102 [00:32<00:48, 57036.49it/s]\u001b[A\n",
      " 38%|███▊      | 1687552/4422102 [00:33<00:54, 50573.59it/s]\u001b[A\n",
      " 39%|███▉      | 1720320/4422102 [00:33<00:47, 56933.05it/s]\u001b[A\n",
      " 40%|███▉      | 1753088/4422102 [00:33<00:42, 62227.49it/s]\u001b[A\n",
      " 41%|████      | 1794048/4422102 [00:34<00:37, 70351.18it/s]\u001b[A\n",
      " 41%|████▏     | 1835008/4422102 [00:34<00:33, 77257.98it/s]\u001b[A\n",
      " 42%|████▏     | 1875968/4422102 [00:35<00:30, 82806.71it/s]\u001b[A\n",
      " 44%|████▎     | 1925120/4422102 [00:35<00:27, 91289.17it/s]\u001b[A\n",
      " 45%|████▍     | 1974272/4422102 [00:35<00:25, 94408.70it/s]\u001b[A\n",
      " 46%|████▌     | 2031616/4422102 [00:36<00:24, 97553.69it/s]\u001b[A\n",
      " 48%|████▊     | 2105344/4422102 [00:36<00:20, 113007.89it/s]\u001b[A\n",
      " 49%|████▉     | 2187264/4422102 [00:37<00:17, 129991.43it/s]\u001b[A\n",
      " 51%|█████▏    | 2277376/4422102 [00:38<00:20, 105170.04it/s]\u001b[A\n",
      " 54%|█████▍    | 2400256/4422102 [00:38<00:15, 130893.43it/s]\u001b[A\n",
      " 57%|█████▋    | 2523136/4422102 [00:39<00:12, 146197.94it/s]\u001b[A\n",
      " 59%|█████▉    | 2613248/4422102 [00:40<00:12, 146305.10it/s]\u001b[A\n",
      " 62%|██████▏   | 2719744/4422102 [00:40<00:10, 168434.79it/s]\u001b[A\n",
      " 64%|██████▍   | 2826240/4422102 [00:41<00:09, 169701.09it/s]\u001b[A\n",
      " 67%|██████▋   | 2949120/4422102 [00:41<00:08, 177305.57it/s]\u001b[A\n",
      " 69%|██████▉   | 3072000/4422102 [00:42<00:06, 202618.77it/s]\u001b[A\n",
      " 72%|███████▏  | 3194880/4422102 [00:42<00:06, 201306.43it/s]\u001b[A\n",
      " 75%|███████▌  | 3317760/4422102 [00:43<00:05, 201309.67it/s]\u001b[A\n",
      " 78%|███████▊  | 3448832/4422102 [00:43<00:04, 226737.88it/s]\u001b[A\n",
      " 80%|███████▉  | 3522560/4422102 [00:43<00:03, 283240.07it/s]\u001b[A\n",
      " 81%|████████  | 3571712/4422102 [00:44<00:03, 231234.02it/s]\u001b[A\n",
      " 83%|████████▎ | 3678208/4422102 [00:44<00:02, 301652.34it/s]\u001b[A\n",
      " 84%|████████▍ | 3735552/4422102 [00:44<00:02, 245652.74it/s]\u001b[A\n",
      " 87%|████████▋ | 3825664/4422102 [00:45<00:02, 243463.72it/s]\u001b[A\n",
      " 89%|████████▉ | 3948544/4422102 [00:45<00:01, 318536.74it/s]\u001b[A\n",
      " 91%|█████████ | 4014080/4422102 [00:45<00:01, 263529.86it/s]\u001b[A\n",
      " 92%|█████████▏| 4063232/4422102 [00:45<00:01, 303472.15it/s]\u001b[A\n",
      " 93%|█████████▎| 4112384/4422102 [00:45<00:01, 247664.29it/s]\u001b[A\n",
      " 95%|█████████▍| 4194304/4422102 [00:46<00:00, 310494.44it/s]\u001b[A\n",
      " 96%|█████████▌| 4251648/4422102 [00:46<00:00, 274416.11it/s]\u001b[A\n",
      " 97%|█████████▋| 4308992/4422102 [00:46<00:00, 309776.78it/s]\u001b[A\n",
      " 99%|█████████▊| 4366336/4422102 [00:46<00:00, 325912.75it/s]\u001b[A\n",
      "4423680it [00:46, 372892.91it/s]                             \u001b[A\n",
      "\n",
      "0it [00:00, ?it/s]\u001b[A\u001b[A"
     ]
    },
    {
     "name": "stdout",
     "output_type": "stream",
     "text": [
      "Extracting ./FashionMNIST/FashionMNIST/raw/t10k-images-idx3-ubyte.gz\n",
      "Downloading http://fashion-mnist.s3-website.eu-central-1.amazonaws.com/t10k-labels-idx1-ubyte.gz to ./FashionMNIST/FashionMNIST/raw/t10k-labels-idx1-ubyte.gz\n"
     ]
    },
    {
     "name": "stderr",
     "output_type": "stream",
     "text": [
      "\n",
      "\n",
      "  0%|          | 0/5148 [00:01<?, ?it/s]\u001b[A\u001b[A\n",
      "\n",
      "8192it [00:01, 5967.68it/s]             \u001b[A\u001b[A"
     ]
    },
    {
     "name": "stdout",
     "output_type": "stream",
     "text": [
      "Extracting ./FashionMNIST/FashionMNIST/raw/t10k-labels-idx1-ubyte.gz\n",
      "Processing...\n",
      "Done!\n"
     ]
    },
    {
     "name": "stderr",
     "output_type": "stream",
     "text": [
      "\n",
      "4423680it [01:01, 372892.91it/s]\u001b[A"
     ]
    }
   ],
   "source": [
    "dataset = torchvision.datasets.FashionMNIST('./FashionMNIST/', train = True, transform = torchvision.transforms.ToTensor(), download = True)"
   ]
  },
  {
   "cell_type": "code",
   "execution_count": 4,
   "metadata": {},
   "outputs": [],
   "source": [
    "train_set, val_set = torch.utils.data.random_split(dataset, [int(len(dataset)*.7), len(dataset) - int(len(dataset)*.7)])"
   ]
  },
  {
   "cell_type": "markdown",
   "metadata": {},
   "source": [
    "# DataLoader"
   ]
  },
  {
   "cell_type": "code",
   "execution_count": 19,
   "metadata": {},
   "outputs": [],
   "source": [
    "from torch.utils.data import DataLoader\n",
    "\n",
    "train_batch_size = 64\n",
    "val_batch_size = len(val_set)\n",
    "\n",
    "train_loader = DataLoader(train_set, batch_size = train_batch_size, shuffle=True)\n",
    "val_loader = DataLoader(val_set, batch_size = val_batch_size)"
   ]
  },
  {
   "cell_type": "markdown",
   "metadata": {},
   "source": [
    "# Model"
   ]
  },
  {
   "cell_type": "code",
   "execution_count": 92,
   "metadata": {},
   "outputs": [],
   "source": [
    "class CNNClassifier(torch.nn.Module):\n",
    "    \n",
    "    def __init__(self, num_classes):\n",
    "        \n",
    "        super(CNNClassifier, self).__init__()\n",
    "        \n",
    "        self.layer1 = torch.nn.Sequential(\n",
    "            torch.nn.Conv2d(1, 8, 4),\n",
    "            torch.nn.BatchNorm2d(8),\n",
    "            torch.nn.ReLU(),\n",
    "            torch.nn.MaxPool2d(kernel_size=2, stride=2)\n",
    "        )\n",
    "        \n",
    "        self.layer2 = torch.nn.Sequential(\n",
    "            torch.nn.Conv2d(8, 16, 4),\n",
    "            torch.nn.BatchNorm2d(16),\n",
    "            torch.nn.ReLU(),\n",
    "            torch.nn.MaxPool2d(kernel_size=2, stride=2)\n",
    "        )\n",
    "        \n",
    "        self.fc = torch.nn.Linear(16*4*4, num_classes)\n",
    "    \n",
    "    def forward(self, x):\n",
    "        \n",
    "        out = self.layer1(x)\n",
    "        out = self.layer2(out)\n",
    "        out = out.view(out.shape[0], -1)\n",
    "        out = self.fc(out)\n",
    "        \n",
    "        return out"
   ]
  },
  {
   "cell_type": "code",
   "execution_count": 93,
   "metadata": {},
   "outputs": [],
   "source": [
    "model = CNNClassifier(num_classes=10)"
   ]
  },
  {
   "cell_type": "markdown",
   "metadata": {},
   "source": [
    "# Loss"
   ]
  },
  {
   "cell_type": "code",
   "execution_count": 94,
   "metadata": {},
   "outputs": [],
   "source": [
    "criterion = torch.nn.CrossEntropyLoss()"
   ]
  },
  {
   "cell_type": "markdown",
   "metadata": {},
   "source": [
    "# Optimizer"
   ]
  },
  {
   "cell_type": "code",
   "execution_count": 95,
   "metadata": {},
   "outputs": [],
   "source": [
    "optimizer = torch.optim.Adam(model.parameters(), lr = 0.01)"
   ]
  },
  {
   "cell_type": "code",
   "execution_count": 96,
   "metadata": {},
   "outputs": [
    {
     "data": {
      "image/png": "[encoded data removed]",
      "text/plain": [
       "<Figure size 432x288 with 4 Axes>"
      ]
     },
     "metadata": {
      "needs_background": "light"
     },
     "output_type": "display_data"
    }
   ],
   "source": [
    "nrow = 2\n",
    "ncol = 2\n",
    "\n",
    "f, axarr = plt.subplots(nrow,ncol)\n",
    "\n",
    "rand_choice = torch.randint(len(dataset), (nrow,ncol))\n",
    "\n",
    "for i, axrow in enumerate(axarr):\n",
    "    for j, ax in enumerate(axrow):\n",
    "        ax.imshow(dataset[rand_choice[i][j]][0][0])"
   ]
  },
  {
   "cell_type": "code",
   "execution_count": 97,
   "metadata": {},
   "outputs": [
    {
     "name": "stdout",
     "output_type": "stream",
     "text": [
      "Epoch 0 train loss: 5.059506809106097 val loss: 2.256981200642056e-05\n",
      "Epoch 1 train loss: 3.783242696430534 val loss: 1.9781604409217834e-05\n"
     ]
    },
    {
     "ename": "KeyboardInterrupt",
     "evalue": "",
     "output_type": "error",
     "traceback": [
      "\u001b[0;31m---------------------------------------------------------------------------\u001b[0m",
      "\u001b[0;31mKeyboardInterrupt\u001b[0m                         Traceback (most recent call last)",
      "\u001b[0;32m<ipython-input-97-705dc5281d14>\u001b[0m in \u001b[0;36m<module>\u001b[0;34m\u001b[0m\n\u001b[1;32m      6\u001b[0m     \u001b[0msum_val_loss_in_batch\u001b[0m \u001b[0;34m=\u001b[0m \u001b[0;36m0.\u001b[0m\u001b[0;34m\u001b[0m\u001b[0;34m\u001b[0m\u001b[0m\n\u001b[1;32m      7\u001b[0m \u001b[0;34m\u001b[0m\u001b[0m\n\u001b[0;32m----> 8\u001b[0;31m     \u001b[0;32mfor\u001b[0m \u001b[0mx\u001b[0m\u001b[0;34m,\u001b[0m \u001b[0my\u001b[0m \u001b[0;32min\u001b[0m \u001b[0mtrain_loader\u001b[0m\u001b[0;34m:\u001b[0m\u001b[0;34m\u001b[0m\u001b[0;34m\u001b[0m\u001b[0m\n\u001b[0m\u001b[1;32m      9\u001b[0m \u001b[0;34m\u001b[0m\u001b[0m\n\u001b[1;32m     10\u001b[0m         \u001b[0my_hat\u001b[0m \u001b[0;34m=\u001b[0m \u001b[0mmodel\u001b[0m\u001b[0;34m(\u001b[0m\u001b[0mx\u001b[0m\u001b[0;34m)\u001b[0m\u001b[0;34m\u001b[0m\u001b[0;34m\u001b[0m\u001b[0m\n",
      "\u001b[0;32m~/.local/lib/python3.6/site-packages/torch/utils/data/dataloader.py\u001b[0m in \u001b[0;36m__next__\u001b[0;34m(self)\u001b[0m\n\u001b[1;32m    613\u001b[0m         \u001b[0;32mif\u001b[0m \u001b[0mself\u001b[0m\u001b[0;34m.\u001b[0m\u001b[0mnum_workers\u001b[0m \u001b[0;34m==\u001b[0m \u001b[0;36m0\u001b[0m\u001b[0;34m:\u001b[0m  \u001b[0;31m# same-process loading\u001b[0m\u001b[0;34m\u001b[0m\u001b[0;34m\u001b[0m\u001b[0m\n\u001b[1;32m    614\u001b[0m             \u001b[0mindices\u001b[0m \u001b[0;34m=\u001b[0m \u001b[0mnext\u001b[0m\u001b[0;34m(\u001b[0m\u001b[0mself\u001b[0m\u001b[0;34m.\u001b[0m\u001b[0msample_iter\u001b[0m\u001b[0;34m)\u001b[0m  \u001b[0;31m# may raise StopIteration\u001b[0m\u001b[0;34m\u001b[0m\u001b[0;34m\u001b[0m\u001b[0m\n\u001b[0;32m--> 615\u001b[0;31m             \u001b[0mbatch\u001b[0m \u001b[0;34m=\u001b[0m \u001b[0mself\u001b[0m\u001b[0;34m.\u001b[0m\u001b[0mcollate_fn\u001b[0m\u001b[0;34m(\u001b[0m\u001b[0;34m[\u001b[0m\u001b[0mself\u001b[0m\u001b[0;34m.\u001b[0m\u001b[0mdataset\u001b[0m\u001b[0;34m[\u001b[0m\u001b[0mi\u001b[0m\u001b[0;34m]\u001b[0m \u001b[0;32mfor\u001b[0m \u001b[0mi\u001b[0m \u001b[0;32min\u001b[0m \u001b[0mindices\u001b[0m\u001b[0;34m]\u001b[0m\u001b[0;34m)\u001b[0m\u001b[0;34m\u001b[0m\u001b[0;34m\u001b[0m\u001b[0m\n\u001b[0m\u001b[1;32m    616\u001b[0m             \u001b[0;32mif\u001b[0m \u001b[0mself\u001b[0m\u001b[0;34m.\u001b[0m\u001b[0mpin_memory\u001b[0m\u001b[0;34m:\u001b[0m\u001b[0;34m\u001b[0m\u001b[0;34m\u001b[0m\u001b[0m\n\u001b[1;32m    617\u001b[0m                 \u001b[0mbatch\u001b[0m \u001b[0;34m=\u001b[0m \u001b[0mpin_memory_batch\u001b[0m\u001b[0;34m(\u001b[0m\u001b[0mbatch\u001b[0m\u001b[0;34m)\u001b[0m\u001b[0;34m\u001b[0m\u001b[0;34m\u001b[0m\u001b[0m\n",
      "\u001b[0;32m~/.local/lib/python3.6/site-packages/torch/utils/data/dataloader.py\u001b[0m in \u001b[0;36m<listcomp>\u001b[0;34m(.0)\u001b[0m\n\u001b[1;32m    613\u001b[0m         \u001b[0;32mif\u001b[0m \u001b[0mself\u001b[0m\u001b[0;34m.\u001b[0m\u001b[0mnum_workers\u001b[0m \u001b[0;34m==\u001b[0m \u001b[0;36m0\u001b[0m\u001b[0;34m:\u001b[0m  \u001b[0;31m# same-process loading\u001b[0m\u001b[0;34m\u001b[0m\u001b[0;34m\u001b[0m\u001b[0m\n\u001b[1;32m    614\u001b[0m             \u001b[0mindices\u001b[0m \u001b[0;34m=\u001b[0m \u001b[0mnext\u001b[0m\u001b[0;34m(\u001b[0m\u001b[0mself\u001b[0m\u001b[0;34m.\u001b[0m\u001b[0msample_iter\u001b[0m\u001b[0;34m)\u001b[0m  \u001b[0;31m# may raise StopIteration\u001b[0m\u001b[0;34m\u001b[0m\u001b[0;34m\u001b[0m\u001b[0m\n\u001b[0;32m--> 615\u001b[0;31m             \u001b[0mbatch\u001b[0m \u001b[0;34m=\u001b[0m \u001b[0mself\u001b[0m\u001b[0;34m.\u001b[0m\u001b[0mcollate_fn\u001b[0m\u001b[0;34m(\u001b[0m\u001b[0;34m[\u001b[0m\u001b[0mself\u001b[0m\u001b[0;34m.\u001b[0m\u001b[0mdataset\u001b[0m\u001b[0;34m[\u001b[0m\u001b[0mi\u001b[0m\u001b[0;34m]\u001b[0m \u001b[0;32mfor\u001b[0m \u001b[0mi\u001b[0m \u001b[0;32min\u001b[0m \u001b[0mindices\u001b[0m\u001b[0;34m]\u001b[0m\u001b[0;34m)\u001b[0m\u001b[0;34m\u001b[0m\u001b[0;34m\u001b[0m\u001b[0m\n\u001b[0m\u001b[1;32m    616\u001b[0m             \u001b[0;32mif\u001b[0m \u001b[0mself\u001b[0m\u001b[0;34m.\u001b[0m\u001b[0mpin_memory\u001b[0m\u001b[0;34m:\u001b[0m\u001b[0;34m\u001b[0m\u001b[0;34m\u001b[0m\u001b[0m\n\u001b[1;32m    617\u001b[0m                 \u001b[0mbatch\u001b[0m \u001b[0;34m=\u001b[0m \u001b[0mpin_memory_batch\u001b[0m\u001b[0;34m(\u001b[0m\u001b[0mbatch\u001b[0m\u001b[0;34m)\u001b[0m\u001b[0;34m\u001b[0m\u001b[0;34m\u001b[0m\u001b[0m\n",
      "\u001b[0;32m~/.local/lib/python3.6/site-packages/torch/utils/data/dataset.py\u001b[0m in \u001b[0;36m__getitem__\u001b[0;34m(self, idx)\u001b[0m\n\u001b[1;32m    101\u001b[0m \u001b[0;34m\u001b[0m\u001b[0m\n\u001b[1;32m    102\u001b[0m     \u001b[0;32mdef\u001b[0m \u001b[0m__getitem__\u001b[0m\u001b[0;34m(\u001b[0m\u001b[0mself\u001b[0m\u001b[0;34m,\u001b[0m \u001b[0midx\u001b[0m\u001b[0;34m)\u001b[0m\u001b[0;34m:\u001b[0m\u001b[0;34m\u001b[0m\u001b[0;34m\u001b[0m\u001b[0m\n\u001b[0;32m--> 103\u001b[0;31m         \u001b[0;32mreturn\u001b[0m \u001b[0mself\u001b[0m\u001b[0;34m.\u001b[0m\u001b[0mdataset\u001b[0m\u001b[0;34m[\u001b[0m\u001b[0mself\u001b[0m\u001b[0;34m.\u001b[0m\u001b[0mindices\u001b[0m\u001b[0;34m[\u001b[0m\u001b[0midx\u001b[0m\u001b[0;34m]\u001b[0m\u001b[0;34m]\u001b[0m\u001b[0;34m\u001b[0m\u001b[0;34m\u001b[0m\u001b[0m\n\u001b[0m\u001b[1;32m    104\u001b[0m \u001b[0;34m\u001b[0m\u001b[0m\n\u001b[1;32m    105\u001b[0m     \u001b[0;32mdef\u001b[0m \u001b[0m__len__\u001b[0m\u001b[0;34m(\u001b[0m\u001b[0mself\u001b[0m\u001b[0;34m)\u001b[0m\u001b[0;34m:\u001b[0m\u001b[0;34m\u001b[0m\u001b[0;34m\u001b[0m\u001b[0m\n",
      "\u001b[0;32m~/.local/lib/python3.6/site-packages/torchvision/datasets/mnist.py\u001b[0m in \u001b[0;36m__getitem__\u001b[0;34m(self, index)\u001b[0m\n\u001b[1;32m     93\u001b[0m \u001b[0;34m\u001b[0m\u001b[0m\n\u001b[1;32m     94\u001b[0m         \u001b[0;32mif\u001b[0m \u001b[0mself\u001b[0m\u001b[0;34m.\u001b[0m\u001b[0mtransform\u001b[0m \u001b[0;32mis\u001b[0m \u001b[0;32mnot\u001b[0m \u001b[0;32mNone\u001b[0m\u001b[0;34m:\u001b[0m\u001b[0;34m\u001b[0m\u001b[0;34m\u001b[0m\u001b[0m\n\u001b[0;32m---> 95\u001b[0;31m             \u001b[0mimg\u001b[0m \u001b[0;34m=\u001b[0m \u001b[0mself\u001b[0m\u001b[0;34m.\u001b[0m\u001b[0mtransform\u001b[0m\u001b[0;34m(\u001b[0m\u001b[0mimg\u001b[0m\u001b[0;34m)\u001b[0m\u001b[0;34m\u001b[0m\u001b[0;34m\u001b[0m\u001b[0m\n\u001b[0m\u001b[1;32m     96\u001b[0m \u001b[0;34m\u001b[0m\u001b[0m\n\u001b[1;32m     97\u001b[0m         \u001b[0;32mif\u001b[0m \u001b[0mself\u001b[0m\u001b[0;34m.\u001b[0m\u001b[0mtarget_transform\u001b[0m \u001b[0;32mis\u001b[0m \u001b[0;32mnot\u001b[0m \u001b[0;32mNone\u001b[0m\u001b[0;34m:\u001b[0m\u001b[0;34m\u001b[0m\u001b[0;34m\u001b[0m\u001b[0m\n",
      "\u001b[0;32m~/.local/lib/python3.6/site-packages/torchvision/transforms/transforms.py\u001b[0m in \u001b[0;36m__call__\u001b[0;34m(self, pic)\u001b[0m\n\u001b[1;32m     89\u001b[0m             \u001b[0mTensor\u001b[0m\u001b[0;34m:\u001b[0m \u001b[0mConverted\u001b[0m \u001b[0mimage\u001b[0m\u001b[0;34m.\u001b[0m\u001b[0;34m\u001b[0m\u001b[0;34m\u001b[0m\u001b[0m\n\u001b[1;32m     90\u001b[0m         \"\"\"\n\u001b[0;32m---> 91\u001b[0;31m         \u001b[0;32mreturn\u001b[0m \u001b[0mF\u001b[0m\u001b[0;34m.\u001b[0m\u001b[0mto_tensor\u001b[0m\u001b[0;34m(\u001b[0m\u001b[0mpic\u001b[0m\u001b[0;34m)\u001b[0m\u001b[0;34m\u001b[0m\u001b[0;34m\u001b[0m\u001b[0m\n\u001b[0m\u001b[1;32m     92\u001b[0m \u001b[0;34m\u001b[0m\u001b[0m\n\u001b[1;32m     93\u001b[0m     \u001b[0;32mdef\u001b[0m \u001b[0m__repr__\u001b[0m\u001b[0;34m(\u001b[0m\u001b[0mself\u001b[0m\u001b[0;34m)\u001b[0m\u001b[0;34m:\u001b[0m\u001b[0;34m\u001b[0m\u001b[0;34m\u001b[0m\u001b[0m\n",
      "\u001b[0;32m~/.local/lib/python3.6/site-packages/torchvision/transforms/functional.py\u001b[0m in \u001b[0;36mto_tensor\u001b[0;34m(pic)\u001b[0m\n\u001b[1;32m     90\u001b[0m     \u001b[0mimg\u001b[0m \u001b[0;34m=\u001b[0m \u001b[0mimg\u001b[0m\u001b[0;34m.\u001b[0m\u001b[0mtranspose\u001b[0m\u001b[0;34m(\u001b[0m\u001b[0;36m0\u001b[0m\u001b[0;34m,\u001b[0m \u001b[0;36m1\u001b[0m\u001b[0;34m)\u001b[0m\u001b[0;34m.\u001b[0m\u001b[0mtranspose\u001b[0m\u001b[0;34m(\u001b[0m\u001b[0;36m0\u001b[0m\u001b[0;34m,\u001b[0m \u001b[0;36m2\u001b[0m\u001b[0;34m)\u001b[0m\u001b[0;34m.\u001b[0m\u001b[0mcontiguous\u001b[0m\u001b[0;34m(\u001b[0m\u001b[0;34m)\u001b[0m\u001b[0;34m\u001b[0m\u001b[0;34m\u001b[0m\u001b[0m\n\u001b[1;32m     91\u001b[0m     \u001b[0;32mif\u001b[0m \u001b[0misinstance\u001b[0m\u001b[0;34m(\u001b[0m\u001b[0mimg\u001b[0m\u001b[0;34m,\u001b[0m \u001b[0mtorch\u001b[0m\u001b[0;34m.\u001b[0m\u001b[0mByteTensor\u001b[0m\u001b[0;34m)\u001b[0m\u001b[0;34m:\u001b[0m\u001b[0;34m\u001b[0m\u001b[0;34m\u001b[0m\u001b[0m\n\u001b[0;32m---> 92\u001b[0;31m         \u001b[0;32mreturn\u001b[0m \u001b[0mimg\u001b[0m\u001b[0;34m.\u001b[0m\u001b[0mfloat\u001b[0m\u001b[0;34m(\u001b[0m\u001b[0;34m)\u001b[0m\u001b[0;34m.\u001b[0m\u001b[0mdiv\u001b[0m\u001b[0;34m(\u001b[0m\u001b[0;36m255\u001b[0m\u001b[0;34m)\u001b[0m\u001b[0;34m\u001b[0m\u001b[0;34m\u001b[0m\u001b[0m\n\u001b[0m\u001b[1;32m     93\u001b[0m     \u001b[0;32melse\u001b[0m\u001b[0;34m:\u001b[0m\u001b[0;34m\u001b[0m\u001b[0;34m\u001b[0m\u001b[0m\n\u001b[1;32m     94\u001b[0m         \u001b[0;32mreturn\u001b[0m \u001b[0mimg\u001b[0m\u001b[0;34m\u001b[0m\u001b[0;34m\u001b[0m\u001b[0m\n",
      "\u001b[0;31mKeyboardInterrupt\u001b[0m: "
     ]
    }
   ],
   "source": [
    "TRAIN_LOSS = []\n",
    "VAL_LOSS = []\n",
    "for epoch in range(100):\n",
    "    \n",
    "    sum_train_loss_in_batch = 0.\n",
    "    sum_val_loss_in_batch = 0.\n",
    "    \n",
    "    for x, y in train_loader:\n",
    "        \n",
    "        y_hat = model(x)\n",
    "        loss = criterion(y_hat, y)\n",
    "        optimizer.zero_grad()\n",
    "        loss.backward()\n",
    "        optimizer.step()\n",
    "        sum_train_loss_in_batch += loss.item()\n",
    "    \n",
    "    with torch.no_grad():\n",
    "        for x, y in val_loader:\n",
    "            y_hat = model(x)\n",
    "            loss = criterion(y_hat, y)\n",
    "            sum_val_loss_in_batch += loss.item()\n",
    "        \n",
    "    train_loss_in_epoch = sum_train_loss_in_batch/train_batch_size\n",
    "    val_loss_in_epoch = sum_val_loss_in_batch/val_batch_size\n",
    "    \n",
    "    TRAIN_LOSS.append(train_loss_in_epoch)\n",
    "    VAL_LOSS.append(val_loss_in_epoch)\n",
    "    \n",
    "    print(f\"Epoch {epoch} train loss: {train_loss_in_epoch} val loss: {val_loss_in_epoch}\")"
   ]
  },
  {
   "cell_type": "code",
   "execution_count": null,
   "metadata": {},
   "outputs": [],
   "source": [
    "datasetrand_choice"
   ]
  },
  {
   "cell_type": "code",
   "execution_count": 40,
   "metadata": {},
   "outputs": [
    {
     "data": {
      "text/plain": [
       "torch.Size([1, 16, 9, 9])"
      ]
     },
     "execution_count": 40,
     "metadata": {},
     "output_type": "execute_result"
    }
   ],
   "source": [
    "c.shape"
   ]
  },
  {
   "cell_type": "code",
   "execution_count": 41,
   "metadata": {},
   "outputs": [],
   "source": [
    "mp = torch.nn.MaxPool2d(kernel_size=2, stride=2)"
   ]
  },
  {
   "cell_type": "code",
   "execution_count": 42,
   "metadata": {},
   "outputs": [],
   "source": [
    "d = mp(c)"
   ]
  },
  {
   "cell_type": "code",
   "execution_count": 43,
   "metadata": {},
   "outputs": [
    {
     "data": {
      "text/plain": [
       "torch.Size([1, 16, 4, 4])"
      ]
     },
     "execution_count": 43,
     "metadata": {},
     "output_type": "execute_result"
    }
   ],
   "source": [
    "d.shape"
   ]
  },
  {
   "cell_type": "code",
   "execution_count": null,
   "metadata": {},
   "outputs": [],
   "source": []
  }
 ],
 "metadata": {
  "kernelspec": {
   "display_name": "Python 3.6.9 64-bit",
   "language": "python",
   "name": "python36964bitbe4a55f02b4d487ab9d485b644b96077"
  },
  "language_info": {
   "codemirror_mode": {
    "name": "ipython",
    "version": 3
   },
   "file_extension": ".py",
   "mimetype": "text/x-python",
   "name": "python",
   "nbconvert_exporter": "python",
   "pygments_lexer": "ipython3",
   "version": "3.6.9"
  }
 },
 "nbformat": 4,
 "nbformat_minor": 2
}

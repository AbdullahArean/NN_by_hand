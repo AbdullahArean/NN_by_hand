{
  "nbformat": 4,
  "nbformat_minor": 0,
  "metadata": {
    "kernelspec": {
      "name": "python3",
      "display_name": "Python 3"
    },
    "colab": {
      "name": "CNN.ipynb",
      "provenance": [],
      "collapsed_sections": []
    },
    "accelerator": "GPU"
  },
  "cells": [
    {
      "cell_type": "markdown",
      "metadata": {
        "id": "1q7EifjAei_L"
      },
      "source": [
        "# Fashion MNIST dataset is given. Classify them"
      ]
    },
    {
      "cell_type": "code",
      "metadata": {
        "id": "Y_XXFSxAei_S"
      },
      "source": [
        "import torch\n",
        "import torchvision\n",
        "import matplotlib.pyplot as plt"
      ],
      "execution_count": 1,
      "outputs": []
    },
    {
      "cell_type": "code",
      "metadata": {
        "id": "OtRLZ8B0ei_q"
      },
      "source": [
        "device = torch.device('cuda:0' if torch.cuda.is_available() else 'cpu')"
      ],
      "execution_count": 2,
      "outputs": []
    },
    {
      "cell_type": "markdown",
      "metadata": {
        "id": "hcMQc2n4ei_6"
      },
      "source": [
        "# Load the dataset"
      ]
    },
    {
      "cell_type": "code",
      "metadata": {
        "scrolled": true,
        "id": "gSIUeME7ei_9"
      },
      "source": [
        "dataset = torchvision.datasets.FashionMNIST('./FashionMNIST/', train = True, transform = torchvision.transforms.ToTensor(), download = True)"
      ],
      "execution_count": 3,
      "outputs": []
    },
    {
      "cell_type": "code",
      "metadata": {
        "id": "BP8131pMejAH"
      },
      "source": [
        "train_set, val_set = torch.utils.data.random_split(dataset, [int(len(dataset)*.7), len(dataset) - int(len(dataset)*.7)])"
      ],
      "execution_count": 4,
      "outputs": []
    },
    {
      "cell_type": "code",
      "metadata": {
        "id": "EJ555jIij5fx",
        "outputId": "fe9171bf-0fd8-4124-b29a-52435efb9f6b",
        "colab": {
          "base_uri": "https://localhost:8080/"
        }
      },
      "source": [
        "len(train_set)"
      ],
      "execution_count": 5,
      "outputs": [
        {
          "output_type": "execute_result",
          "data": {
            "text/plain": [
              "42000"
            ]
          },
          "metadata": {
            "tags": []
          },
          "execution_count": 5
        }
      ]
    },
    {
      "cell_type": "markdown",
      "metadata": {
        "id": "T7jk7t6bejAR"
      },
      "source": [
        "# DataLoader"
      ]
    },
    {
      "cell_type": "code",
      "metadata": {
        "id": "hOKPvU08ejAS"
      },
      "source": [
        "from torch.utils.data import DataLoader\n",
        "\n",
        "train_batch_size = 64\n",
        "val_batch_size = len(val_set)\n",
        "\n",
        "train_loader = DataLoader(train_set, batch_size = train_batch_size, shuffle=True)\n",
        "val_loader = DataLoader(val_set, batch_size = val_batch_size)"
      ],
      "execution_count": 6,
      "outputs": []
    },
    {
      "cell_type": "markdown",
      "metadata": {
        "id": "cAhUG-Z6ejAc"
      },
      "source": [
        "# Model"
      ]
    },
    {
      "cell_type": "code",
      "metadata": {
        "id": "ieTYD_m5ejAe"
      },
      "source": [
        "class CNNClassifier(torch.nn.Module):\n",
        "    \n",
        "    def __init__(self, num_classes):\n",
        "        \n",
        "        super(CNNClassifier, self).__init__()\n",
        "        \n",
        "        self.layer1 = torch.nn.Sequential(\n",
        "            torch.nn.Conv2d(1, 8, 4),\n",
        "            torch.nn.BatchNorm2d(8),\n",
        "            torch.nn.ReLU(),\n",
        "            torch.nn.MaxPool2d(kernel_size=2, stride=2)\n",
        "        )\n",
        "        \n",
        "        self.layer2 = torch.nn.Sequential(\n",
        "            torch.nn.Conv2d(8, 16, 4),\n",
        "            torch.nn.BatchNorm2d(16),\n",
        "            torch.nn.ReLU(),\n",
        "            torch.nn.MaxPool2d(kernel_size=2, stride=2)\n",
        "        )\n",
        "        \n",
        "        self.fc = torch.nn.Linear(16*4*4, num_classes)\n",
        "    \n",
        "    def forward(self, x):\n",
        "        \n",
        "        out = self.layer1(x)\n",
        "        out = self.layer2(out)\n",
        "        out = out.view(out.shape[0], -1)\n",
        "        out = self.fc(out)\n",
        "        \n",
        "        return out"
      ],
      "execution_count": 7,
      "outputs": []
    },
    {
      "cell_type": "code",
      "metadata": {
        "id": "bmao1ZKmejAm"
      },
      "source": [
        "model = CNNClassifier(num_classes=10).to(device)"
      ],
      "execution_count": 8,
      "outputs": []
    },
    {
      "cell_type": "markdown",
      "metadata": {
        "id": "_IOvMSsuejAs"
      },
      "source": [
        "# Loss"
      ]
    },
    {
      "cell_type": "code",
      "metadata": {
        "id": "LlgsKFe6ejAt"
      },
      "source": [
        "criterion = torch.nn.CrossEntropyLoss()"
      ],
      "execution_count": 9,
      "outputs": []
    },
    {
      "cell_type": "markdown",
      "metadata": {
        "id": "HqiwiUl9ejA1"
      },
      "source": [
        "# Optimizer"
      ]
    },
    {
      "cell_type": "code",
      "metadata": {
        "id": "wOmlBTVUejA3"
      },
      "source": [
        "optimizer = torch.optim.Adam(model.parameters(), lr = 0.01)"
      ],
      "execution_count": 10,
      "outputs": []
    },
    {
      "cell_type": "code",
      "metadata": {
        "id": "Phkdfr6P-kJW"
      },
      "source": [
        "class AverageMeter(object):\n",
        "    \"\"\"Computes and stores the average and current value\"\"\"\n",
        "    def __init__(self, name, fmt=':f'):\n",
        "        self.name = name\n",
        "        self.fmt = fmt\n",
        "        self.reset()\n",
        "\n",
        "    def reset(self):\n",
        "        self.val = 0\n",
        "        self.avg = 0\n",
        "        self.sum = 0\n",
        "        self.count = 0\n",
        "\n",
        "    def update(self, val, n=1):\n",
        "        self.val = val\n",
        "        self.sum += val * n\n",
        "        self.count += n\n",
        "        self.avg = self.sum / self.count\n",
        "    \n",
        "    def get_avg(self):\n",
        "      return self.avg\n",
        "\n",
        "    def __str__(self):\n",
        "        fmtstr = '{name} {val' + self.fmt + '} ({avg' + self.fmt + '})'\n",
        "        return fmtstr.format(**self.__dict__)"
      ],
      "execution_count": 11,
      "outputs": []
    },
    {
      "cell_type": "code",
      "metadata": {
        "id": "WKwk124ICjQA"
      },
      "source": [
        "class AccuracyMeter(object):\n",
        "    \"\"\"Computes and stores the Accuracy%\"\"\"\n",
        "    \"\"\"Accuracy = val/count\"\"\"\n",
        "    def __init__(self, name, fmt=':f'):\n",
        "        self.name = name\n",
        "        self.fmt = fmt\n",
        "        self.reset()\n",
        "\n",
        "    def reset(self):\n",
        "        self.val = 0\n",
        "        self.count = 0\n",
        "        self.accuracy = 0\n",
        "\n",
        "    def update(self, val, n=1):\n",
        "        self.val += val\n",
        "        self.count += n\n",
        "        self.accuracy = self.val / self.count\n",
        "    \n",
        "    def get_accuracy(self):\n",
        "        return self.accuracy"
      ],
      "execution_count": 12,
      "outputs": []
    },
    {
      "cell_type": "code",
      "metadata": {
        "id": "A5FFgjjUejA9",
        "outputId": "8b465075-39a2-4bd2-ca41-899afde7820b",
        "colab": {
          "base_uri": "https://localhost:8080/",
          "height": 268
        }
      },
      "source": [
        "nrow = 2\n",
        "ncol = 2\n",
        "\n",
        "f, axarr = plt.subplots(nrow,ncol)\n",
        "\n",
        "rand_choice = torch.randint(len(dataset), (nrow,ncol))\n",
        "\n",
        "for i, axrow in enumerate(axarr):\n",
        "    for j, ax in enumerate(axrow):\n",
        "        ax.imshow(dataset[rand_choice[i][j]][0][0])"
      ],
      "execution_count": 13,
      "outputs": [
        {
          "output_type": "display_data",
          "data": {
            "image/png": "[encoded data removed]",
            "text/plain": [
              "<Figure size 432x288 with 4 Axes>"
            ]
          },
          "metadata": {
            "tags": [],
            "needs_background": "light"
          }
        }
      ]
    },
    {
      "cell_type": "code",
      "metadata": {
        "id": "iOjmJckAejBF",
        "outputId": "46e6ca4d-3bf9-4a40-babf-e43d61279308",
        "colab": {
          "base_uri": "https://localhost:8080/"
        }
      },
      "source": [
        "TRAIN_LOSSES = []\n",
        "VAL_LOSSES = []\n",
        "for epoch in range(50):\n",
        "\n",
        "    train_loss = AverageMeter('Train Loss', ':.4e')\n",
        "    train_accuracy = AccuracyMeter('Train Loss', ':.4e')\n",
        "\n",
        "    val_loss = AverageMeter('Train Loss', ':.4e')\n",
        "    val_accuracy = AccuracyMeter('Train Loss', ':.4e')\n",
        "\n",
        "    for x, y in train_loader:\n",
        " \n",
        "        x = x.to(device)\n",
        "        y = y.to(device)\n",
        " \n",
        "        y_hat = model(x)\n",
        "        loss = criterion(y_hat, y)\n",
        "        optimizer.zero_grad()\n",
        "        loss.backward()\n",
        "        optimizer.step()\n",
        "\n",
        "        train_loss.update(loss.item())\n",
        "\n",
        "        train_accuracy.update((y_hat.argmax(dim=1)==y).sum().item(), y_hat.shape[0])\n",
        "\n",
        "    \n",
        "    with torch.no_grad():\n",
        "        for x, y in val_loader:\n",
        " \n",
        "            x = x.to(device)\n",
        "            y = y.to(device)\n",
        " \n",
        "            y_hat = model(x)\n",
        "            loss = criterion(y_hat, y)\n",
        "\n",
        "            val_loss.update(loss.item())\n",
        "\n",
        "            val_accuracy.update((y_hat.argmax(dim=1)==y).sum().item(), y_hat.shape[0])\n",
        "    \n",
        "    TRAIN_LOSSES.append(train_loss.get_avg())\n",
        "    VAL_LOSSES.append(val_loss.get_avg())\n",
        "\n",
        "    print(f'Epoch {epoch}: Train Loss: {train_loss.get_avg():.3f} Val Loss {val_loss.get_avg():.3f}\\\n",
        "    Train Acc {train_accuracy.get_accuracy():.3f} Val Acc {val_accuracy.get_accuracy():.3f}')\n",
        "        "
      ],
      "execution_count": 14,
      "outputs": [
        {
          "output_type": "stream",
          "text": [
            "Epoch 0: Train Loss: 0.482 Val Loss 0.403    Train Acc 0.826 Val Acc 0.847\n",
            "Epoch 1: Train Loss: 0.366 Val Loss 0.343    Train Acc 0.866 Val Acc 0.877\n",
            "Epoch 2: Train Loss: 0.337 Val Loss 0.343    Train Acc 0.878 Val Acc 0.874\n",
            "Epoch 3: Train Loss: 0.320 Val Loss 0.427    Train Acc 0.883 Val Acc 0.847\n",
            "Epoch 4: Train Loss: 0.306 Val Loss 0.338    Train Acc 0.888 Val Acc 0.877\n",
            "Epoch 5: Train Loss: 0.298 Val Loss 0.336    Train Acc 0.892 Val Acc 0.881\n",
            "Epoch 6: Train Loss: 0.292 Val Loss 0.322    Train Acc 0.894 Val Acc 0.884\n",
            "Epoch 7: Train Loss: 0.284 Val Loss 0.320    Train Acc 0.896 Val Acc 0.886\n",
            "Epoch 8: Train Loss: 0.279 Val Loss 0.325    Train Acc 0.898 Val Acc 0.887\n",
            "Epoch 9: Train Loss: 0.274 Val Loss 0.340    Train Acc 0.898 Val Acc 0.877\n",
            "Epoch 10: Train Loss: 0.272 Val Loss 0.317    Train Acc 0.899 Val Acc 0.890\n",
            "Epoch 11: Train Loss: 0.266 Val Loss 0.327    Train Acc 0.902 Val Acc 0.884\n",
            "Epoch 12: Train Loss: 0.261 Val Loss 0.331    Train Acc 0.903 Val Acc 0.883\n",
            "Epoch 13: Train Loss: 0.260 Val Loss 0.345    Train Acc 0.904 Val Acc 0.879\n",
            "Epoch 14: Train Loss: 0.256 Val Loss 0.334    Train Acc 0.904 Val Acc 0.879\n",
            "Epoch 15: Train Loss: 0.255 Val Loss 0.328    Train Acc 0.906 Val Acc 0.885\n",
            "Epoch 16: Train Loss: 0.250 Val Loss 0.332    Train Acc 0.908 Val Acc 0.883\n",
            "Epoch 17: Train Loss: 0.249 Val Loss 0.332    Train Acc 0.909 Val Acc 0.887\n",
            "Epoch 18: Train Loss: 0.247 Val Loss 0.333    Train Acc 0.908 Val Acc 0.883\n",
            "Epoch 19: Train Loss: 0.245 Val Loss 0.351    Train Acc 0.910 Val Acc 0.880\n",
            "Epoch 20: Train Loss: 0.246 Val Loss 0.330    Train Acc 0.909 Val Acc 0.886\n",
            "Epoch 21: Train Loss: 0.241 Val Loss 0.346    Train Acc 0.911 Val Acc 0.885\n",
            "Epoch 22: Train Loss: 0.243 Val Loss 0.373    Train Acc 0.911 Val Acc 0.870\n",
            "Epoch 23: Train Loss: 0.240 Val Loss 0.328    Train Acc 0.912 Val Acc 0.888\n",
            "Epoch 24: Train Loss: 0.236 Val Loss 0.330    Train Acc 0.913 Val Acc 0.887\n",
            "Epoch 25: Train Loss: 0.235 Val Loss 0.320    Train Acc 0.913 Val Acc 0.890\n",
            "Epoch 26: Train Loss: 0.234 Val Loss 0.327    Train Acc 0.913 Val Acc 0.887\n",
            "Epoch 27: Train Loss: 0.234 Val Loss 0.349    Train Acc 0.912 Val Acc 0.883\n",
            "Epoch 28: Train Loss: 0.233 Val Loss 0.360    Train Acc 0.913 Val Acc 0.880\n",
            "Epoch 29: Train Loss: 0.231 Val Loss 0.348    Train Acc 0.913 Val Acc 0.878\n",
            "Epoch 30: Train Loss: 0.229 Val Loss 0.374    Train Acc 0.914 Val Acc 0.876\n",
            "Epoch 31: Train Loss: 0.232 Val Loss 0.339    Train Acc 0.913 Val Acc 0.888\n",
            "Epoch 32: Train Loss: 0.228 Val Loss 0.355    Train Acc 0.915 Val Acc 0.884\n",
            "Epoch 33: Train Loss: 0.230 Val Loss 0.334    Train Acc 0.914 Val Acc 0.888\n",
            "Epoch 34: Train Loss: 0.228 Val Loss 0.370    Train Acc 0.915 Val Acc 0.879\n",
            "Epoch 35: Train Loss: 0.224 Val Loss 0.364    Train Acc 0.917 Val Acc 0.880\n",
            "Epoch 36: Train Loss: 0.225 Val Loss 0.346    Train Acc 0.916 Val Acc 0.882\n",
            "Epoch 37: Train Loss: 0.224 Val Loss 0.345    Train Acc 0.917 Val Acc 0.887\n",
            "Epoch 38: Train Loss: 0.221 Val Loss 0.345    Train Acc 0.919 Val Acc 0.883\n",
            "Epoch 39: Train Loss: 0.223 Val Loss 0.340    Train Acc 0.918 Val Acc 0.887\n",
            "Epoch 40: Train Loss: 0.221 Val Loss 0.348    Train Acc 0.919 Val Acc 0.887\n",
            "Epoch 41: Train Loss: 0.222 Val Loss 0.339    Train Acc 0.918 Val Acc 0.890\n",
            "Epoch 42: Train Loss: 0.221 Val Loss 0.355    Train Acc 0.918 Val Acc 0.882\n",
            "Epoch 43: Train Loss: 0.220 Val Loss 0.348    Train Acc 0.917 Val Acc 0.889\n",
            "Epoch 44: Train Loss: 0.218 Val Loss 0.349    Train Acc 0.918 Val Acc 0.887\n",
            "Epoch 45: Train Loss: 0.219 Val Loss 0.361    Train Acc 0.919 Val Acc 0.883\n",
            "Epoch 46: Train Loss: 0.217 Val Loss 0.378    Train Acc 0.920 Val Acc 0.875\n",
            "Epoch 47: Train Loss: 0.218 Val Loss 0.348    Train Acc 0.919 Val Acc 0.890\n",
            "Epoch 48: Train Loss: 0.217 Val Loss 0.359    Train Acc 0.920 Val Acc 0.884\n",
            "Epoch 49: Train Loss: 0.217 Val Loss 0.363    Train Acc 0.920 Val Acc 0.880\n"
          ],
          "name": "stdout"
        }
      ]
    },
    {
      "cell_type": "code",
      "metadata": {
        "id": "uiHxVB5rejBM",
        "outputId": "22ef0af9-f5b0-444e-b62a-84bf2719517e",
        "colab": {
          "base_uri": "https://localhost:8080/",
          "height": 283
        }
      },
      "source": [
        "plt.plot(TRAIN_LOSSES)\n",
        "plt.plot(VAL_LOSSES)"
      ],
      "execution_count": 15,
      "outputs": [
        {
          "output_type": "execute_result",
          "data": {
            "text/plain": [
              "[<matplotlib.lines.Line2D at 0x7ffa801885f8>]"
            ]
          },
          "metadata": {
            "tags": []
          },
          "execution_count": 15
        },
        {
          "output_type": "display_data",
          "data": {
            "image/png": "[encoded data removed]",
            "text/plain": [
              "<Figure size 432x288 with 1 Axes>"
            ]
          },
          "metadata": {
            "tags": [],
            "needs_background": "light"
          }
        }
      ]
    }
  ]
}
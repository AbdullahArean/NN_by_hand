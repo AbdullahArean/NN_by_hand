{
 "cells": [
  {
   "cell_type": "markdown",
   "metadata": {},
   "source": [
    "# <span style=\"color:red\"> Dataset of one feature and its class belonging is given. Train a model which can predict its dataset</span>"
   ]
  },
  {
   "cell_type": "code",
   "execution_count": 1,
   "metadata": {},
   "outputs": [],
   "source": [
    "import torch\n",
    "import matplotlib.pyplot as plt"
   ]
  },
  {
   "cell_type": "code",
   "execution_count": 2,
   "metadata": {},
   "outputs": [],
   "source": [
    "x1 = torch.rand(250, 2)*(-12)"
   ]
  },
  {
   "cell_type": "code",
   "execution_count": 3,
   "metadata": {},
   "outputs": [],
   "source": [
    "y1 = torch.tensor([[0.] for features in x1])"
   ]
  },
  {
   "cell_type": "code",
   "execution_count": 4,
   "metadata": {},
   "outputs": [],
   "source": [
    "x2 = torch.rand(250, 2)*(12)"
   ]
  },
  {
   "cell_type": "code",
   "execution_count": 5,
   "metadata": {},
   "outputs": [],
   "source": [
    "y2 = torch.tensor([[1.] for features in x2])"
   ]
  },
  {
   "cell_type": "code",
   "execution_count": 6,
   "metadata": {},
   "outputs": [],
   "source": [
    "x = torch.cat((x1, x2), dim=0)"
   ]
  },
  {
   "cell_type": "code",
   "execution_count": 7,
   "metadata": {},
   "outputs": [],
   "source": [
    "y = torch.cat((y1, y2), dim=0)"
   ]
  },
  {
   "cell_type": "code",
   "execution_count": 8,
   "metadata": {},
   "outputs": [],
   "source": [
    "DS = {'X': x, 'Y': y}"
   ]
  },
  {
   "cell_type": "code",
   "execution_count": 9,
   "metadata": {},
   "outputs": [
    {
     "data": {
      "image/png": "[encoded data removed]",
      "text/plain": [
       "<Figure size 432x288 with 1 Axes>"
      ]
     },
     "metadata": {
      "needs_background": "light"
     },
     "output_type": "display_data"
    }
   ],
   "source": [
    "for x_, y_ in zip(DS['X'], DS['Y']):\n",
    "    if y_==1.:\n",
    "        plt.plot(x_[0], x_[1], 'ro')\n",
    "    else:\n",
    "        plt.plot(x_[0], x_[1], 'go')"
   ]
  },
  {
   "cell_type": "markdown",
   "metadata": {},
   "source": [
    "### Description of some keyworks:\n",
    "```\n",
    "DS: dictionary of provided dataset x, y. DS['X'] is x, DS['Y'] is y.\n",
    "LOSS: list of losses in epochs\n",
    "```"
   ]
  },
  {
   "cell_type": "markdown",
   "metadata": {},
   "source": [
    "# <span style=\"color:green\"> Answer: </span>"
   ]
  },
  {
   "cell_type": "markdown",
   "metadata": {},
   "source": [
    "## Custom dataset"
   ]
  },
  {
   "cell_type": "code",
   "execution_count": 10,
   "metadata": {},
   "outputs": [],
   "source": [
    "from torch.utils.data.dataset import Dataset\n",
    "\n",
    "class MyCustomDataset(Dataset):\n",
    "    \n",
    "    def __init__(self, x, y):\n",
    "        self.x = x\n",
    "        self.y = y\n",
    "    \n",
    "    def __len__(self):\n",
    "        return y.shape[0]\n",
    "    \n",
    "    def __getitem__(self, index):\n",
    "        return self.x[index], self.y[index]"
   ]
  },
  {
   "cell_type": "code",
   "execution_count": 11,
   "metadata": {},
   "outputs": [],
   "source": [
    "dataset = MyCustomDataset(DS['X'], DS['Y'])"
   ]
  },
  {
   "cell_type": "markdown",
   "metadata": {},
   "source": [
    "## DataLoader"
   ]
  },
  {
   "cell_type": "code",
   "execution_count": 12,
   "metadata": {},
   "outputs": [],
   "source": [
    "from torch.utils.data import DataLoader\n",
    "\n",
    "batch_size = 8\n",
    "\n",
    "train_loader = DataLoader(dataset, batch_size, shuffle=True)"
   ]
  },
  {
   "cell_type": "markdown",
   "metadata": {},
   "source": [
    "# Model"
   ]
  },
  {
   "cell_type": "code",
   "execution_count": 13,
   "metadata": {},
   "outputs": [],
   "source": [
    "class binary_classification(torch.nn.Module):\n",
    "    \n",
    "    def __init__(self, input_size, output_size, hidden_neuron_cnt):\n",
    "        \n",
    "        super(binary_classification, self).__init__()\n",
    "        self.linear1 = torch.nn.Linear(input_size, hidden_neuron_cnt)\n",
    "        self.act = torch.nn.Sigmoid()\n",
    "        self.linear2 = torch.nn.Linear(hidden_neuron_cnt, output_size)\n",
    "\n",
    "    def forward(self, x):\n",
    "        \n",
    "        out = self.linear1(x)\n",
    "        out = self.act(out)\n",
    "        out = self.linear2(out)\n",
    "        out = self.act(out)\n",
    "        return out"
   ]
  },
  {
   "cell_type": "code",
   "execution_count": 14,
   "metadata": {},
   "outputs": [],
   "source": [
    "model = binary_classification(2, 1, 4)"
   ]
  },
  {
   "cell_type": "markdown",
   "metadata": {},
   "source": [
    "# Loss"
   ]
  },
  {
   "cell_type": "code",
   "execution_count": 15,
   "metadata": {},
   "outputs": [],
   "source": [
    "criterion = torch.nn.BCELoss() "
   ]
  },
  {
   "cell_type": "markdown",
   "metadata": {},
   "source": [
    "# Optimizer"
   ]
  },
  {
   "cell_type": "code",
   "execution_count": 16,
   "metadata": {},
   "outputs": [],
   "source": [
    "optimizer = torch.optim.Adam(model.parameters(), lr=.01)"
   ]
  },
  {
   "cell_type": "code",
   "execution_count": 17,
   "metadata": {},
   "outputs": [],
   "source": [
    "with torch.no_grad():\n",
    "    y_pred = model(DS['X'])\n",
    "    y_pred = torch.round(y_pred)"
   ]
  },
  {
   "cell_type": "code",
   "execution_count": 19,
   "metadata": {},
   "outputs": [
    {
     "data": {
      "image/png": "[encoded data removed]",
      "text/plain": [
       "<Figure size 432x288 with 1 Axes>"
      ]
     },
     "metadata": {
      "needs_background": "light"
     },
     "output_type": "display_data"
    }
   ],
   "source": [
    "for x_, y_ in zip(DS['X'], y_pred):\n",
    "    if y_==1.:\n",
    "        plt.plot(x_[0], x_[1], 'ro')\n",
    "    else:\n",
    "        plt.plot(x_[0], x_[1], 'go')"
   ]
  },
  {
   "cell_type": "code",
   "execution_count": 20,
   "metadata": {},
   "outputs": [
    {
     "name": "stdout",
     "output_type": "stream",
     "text": [
      "Epoch 0 Loss: 4.180177975445986\n",
      "Epoch 1 Loss: 0.06562566012144089\n",
      "Epoch 2 Loss: 0.0651274174451828\n",
      "Epoch 3 Loss: 0.06458696722984314\n",
      "Epoch 4 Loss: 0.06401289999485016\n",
      "Epoch 5 Loss: 0.0634123831987381\n",
      "Epoch 6 Loss: 0.0627913698554039\n",
      "Epoch 7 Loss: 0.06215493753552437\n",
      "Epoch 8 Loss: 0.061507292091846466\n",
      "Epoch 9 Loss: 0.06085199490189552\n",
      "Epoch 10 Loss: 0.0601920485496521\n",
      "Epoch 11 Loss: 0.05952998623251915\n",
      "Epoch 12 Loss: 0.058867935091257095\n",
      "Epoch 13 Loss: 0.0582076832652092\n",
      "Epoch 14 Loss: 0.057550717145204544\n",
      "Epoch 15 Loss: 0.056898295879364014\n",
      "Epoch 16 Loss: 0.05625144764780998\n",
      "Epoch 17 Loss: 0.055611032992601395\n",
      "Epoch 18 Loss: 0.054977744817733765\n",
      "Epoch 19 Loss: 0.054352156817913055\n",
      "Epoch 20 Loss: 0.05373471975326538\n",
      "Epoch 21 Loss: 0.0531257763504982\n",
      "Epoch 22 Loss: 0.05252561718225479\n",
      "Epoch 23 Loss: 0.05193443223834038\n",
      "Epoch 24 Loss: 0.051352351903915405\n",
      "Epoch 25 Loss: 0.05077946558594704\n",
      "Epoch 26 Loss: 0.05021582171320915\n",
      "Epoch 27 Loss: 0.04966141656041145\n",
      "Epoch 28 Loss: 0.04911622405052185\n",
      "Epoch 29 Loss: 0.048580192029476166\n",
      "Epoch 30 Loss: 0.04805324599146843\n",
      "Epoch 31 Loss: 0.047535285353660583\n",
      "Epoch 32 Loss: 0.047026198357343674\n",
      "Epoch 33 Loss: 0.04652586579322815\n",
      "Epoch 34 Loss: 0.04603414237499237\n",
      "Epoch 35 Loss: 0.04555090516805649\n",
      "Epoch 36 Loss: 0.04507599025964737\n",
      "Epoch 37 Loss: 0.04460924118757248\n",
      "Epoch 38 Loss: 0.04415052384138107\n",
      "Epoch 39 Loss: 0.043699659407138824\n",
      "Epoch 40 Loss: 0.043256498873233795\n",
      "Epoch 41 Loss: 0.042820870876312256\n",
      "Epoch 42 Loss: 0.04239262267947197\n",
      "Epoch 43 Loss: 0.0419716015458107\n",
      "Epoch 44 Loss: 0.041557639837265015\n",
      "Epoch 45 Loss: 0.04115057736635208\n",
      "Epoch 46 Loss: 0.04075027257204056\n",
      "Epoch 47 Loss: 0.040356576442718506\n",
      "Epoch 48 Loss: 0.03996932506561279\n",
      "Epoch 49 Loss: 0.03958837687969208\n"
     ]
    }
   ],
   "source": [
    "LOSS = []\n",
    "for epoch in range(50):\n",
    "    sum_loss_in_batch = 0.\n",
    "    for x, y in train_loader:\n",
    "        y_hat = model(x)\n",
    "        loss = criterion(y_hat, y)\n",
    "        optimizer.zero_grad()\n",
    "        loss.backward()\n",
    "        optimizer.step()\n",
    "        sum_loss_in_batch += loss.item()\n",
    "        \n",
    "    loss_in_epoch = sum_loss_in_batch/batch_size\n",
    "    LOSS.append(loss_in_epoch)\n",
    "    print(f\"Epoch {epoch} Loss: {loss_in_epoch}\")"
   ]
  },
  {
   "cell_type": "code",
   "execution_count": 21,
   "metadata": {},
   "outputs": [
    {
     "data": {
      "text/plain": [
       "[<matplotlib.lines.Line2D at 0x7f45064370b8>]"
      ]
     },
     "execution_count": 21,
     "metadata": {},
     "output_type": "execute_result"
    },
    {
     "data": {
      "image/png": "[encoded data removed]",
      "text/plain": [
       "<Figure size 432x288 with 1 Axes>"
      ]
     },
     "metadata": {
      "needs_background": "light"
     },
     "output_type": "display_data"
    }
   ],
   "source": [
    "plt.plot(LOSS)"
   ]
  },
  {
   "cell_type": "code",
   "execution_count": 22,
   "metadata": {},
   "outputs": [],
   "source": [
    "with torch.no_grad():\n",
    "    y_pred = model(DS['X'])\n",
    "    y_pred = torch.round(y_pred)"
   ]
  },
  {
   "cell_type": "code",
   "execution_count": 23,
   "metadata": {},
   "outputs": [
    {
     "data": {
      "image/png": "[encoded data removed]",
      "text/plain": [
       "<Figure size 432x288 with 1 Axes>"
      ]
     },
     "metadata": {
      "needs_background": "light"
     },
     "output_type": "display_data"
    }
   ],
   "source": [
    "for x_, y_ in zip(DS['X'], y_pred):\n",
    "    if y_==1.:\n",
    "        plt.plot(x_[0], x_[1], 'ro')\n",
    "    else:\n",
    "        plt.plot(x_[0], x_[1], 'go')"
   ]
  },
  {
   "cell_type": "code",
   "execution_count": null,
   "metadata": {},
   "outputs": [],
   "source": []
  },
  {
   "cell_type": "code",
   "execution_count": null,
   "metadata": {},
   "outputs": [],
   "source": []
  }
 ],
 "metadata": {
  "kernelspec": {
   "display_name": "Python 3.6.9 64-bit",
   "language": "python",
   "name": "python36964bitbe4a55f02b4d487ab9d485b644b96077"
  },
  "language_info": {
   "codemirror_mode": {
    "name": "ipython",
    "version": 3
   },
   "file_extension": ".py",
   "mimetype": "text/x-python",
   "name": "python",
   "nbconvert_exporter": "python",
   "pygments_lexer": "ipython3",
   "version": "3.6.9"
  }
 },
 "nbformat": 4,
 "nbformat_minor": 2
}

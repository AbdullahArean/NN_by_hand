{
 "cells": [
  {
   "cell_type": "code",
   "execution_count": 1,
   "metadata": {},
   "outputs": [],
   "source": [
    "import matplotlib.pyplot as plt\n",
    "import torch\n",
    "from torch import nn"
   ]
  },
  {
   "cell_type": "code",
   "execution_count": 2,
   "metadata": {},
   "outputs": [],
   "source": [
    "from torch.utils.data.dataset import Dataset\n",
    "\n",
    "class RNNData(Dataset):\n",
    "    def __init__(self):\n",
    "        pass\n",
    "    \n",
    "    def __len__(self):\n",
    "        return 100\n",
    "    \n",
    "    def __getitem__(self, index):\n",
    "        torch.\n",
    "        L = torch.linspace(L, L+.1)\n",
    "        return x, self.y[index]"
   ]
  },
  {
   "cell_type": "code",
   "execution_count": 38,
   "metadata": {},
   "outputs": [],
   "source": [
    "L = torch.linspace(1, 1+.1, 2)"
   ]
  },
  {
   "cell_type": "code",
   "execution_count": 39,
   "metadata": {},
   "outputs": [
    {
     "data": {
      "text/plain": [
       "tensor([1.0000, 1.1000])"
      ]
     },
     "execution_count": 39,
     "metadata": {},
     "output_type": "execute_result"
    }
   ],
   "source": [
    "L"
   ]
  },
  {
   "cell_type": "code",
   "execution_count": 3,
   "metadata": {},
   "outputs": [],
   "source": [
    "dataset = RNNData()"
   ]
  },
  {
   "cell_type": "code",
   "execution_count": 4,
   "metadata": {},
   "outputs": [
    {
     "data": {
      "text/plain": [
       "(tensor([[0., 0., 0., 0., 0., 0., 0., 0., 0., 0., 0., 0., 0., 0., 0., 0., 0., 0.,\n",
       "          0., 0., 0., 0., 0., 0., 1., 0.],\n",
       "         [0., 0., 0., 0., 0., 0., 0., 0., 0., 0., 0., 0., 0., 0., 0., 0., 0., 0.,\n",
       "          0., 0., 0., 0., 0., 0., 0., 1.]]),\n",
       " tensor(0))"
      ]
     },
     "execution_count": 4,
     "metadata": {},
     "output_type": "execute_result"
    }
   ],
   "source": [
    "dataset[25]"
   ]
  },
  {
   "cell_type": "code",
   "execution_count": 5,
   "metadata": {},
   "outputs": [],
   "source": [
    "from torch.utils.data import DataLoader\n",
    "\n",
    "batch_size = 1\n",
    "\n",
    "dataloader = DataLoader(dataset, batch_size = batch_size)"
   ]
  },
  {
   "cell_type": "code",
   "execution_count": 6,
   "metadata": {},
   "outputs": [],
   "source": [
    "class RNNModel(torch.nn.Module):\n",
    "    def __init__(self):\n",
    "        super(RNNModel, self).__init__()\n",
    "        self.rnn = torch.nn.RNN(input_size = 26, hidden_size = 26, num_layers=1, batch_first=True)\n",
    "    \n",
    "    def forward(self, x):\n",
    "        out, hid = self.rnn(x)\n",
    "        return out"
   ]
  },
  {
   "cell_type": "code",
   "execution_count": 7,
   "metadata": {},
   "outputs": [],
   "source": [
    "model = RNNModel()"
   ]
  },
  {
   "cell_type": "code",
   "execution_count": 8,
   "metadata": {},
   "outputs": [],
   "source": [
    "criterion = torch.nn.CrossEntropyLoss() "
   ]
  },
  {
   "cell_type": "code",
   "execution_count": 31,
   "metadata": {},
   "outputs": [],
   "source": [
    "optimizer = torch.optim.Adam(model.parameters(), lr=.001)"
   ]
  },
  {
   "cell_type": "code",
   "execution_count": 32,
   "metadata": {},
   "outputs": [],
   "source": [
    "class AverageMeter:\n",
    "    def __init__(self):\n",
    "        self.val = 0.\n",
    "        self.avg = 0.\n",
    "        self.sum = 0.\n",
    "        self.count = 0.\n",
    "    \n",
    "    def update(self, val, n = 1):\n",
    "        self.val = val\n",
    "        self.sum = self.sum + val*n\n",
    "        self.count = self.count + n\n",
    "        self.avg = self.sum / self.count\n",
    "    \n",
    "    def get_avg(self):\n",
    "        return self.avg"
   ]
  },
  {
   "cell_type": "code",
   "execution_count": 33,
   "metadata": {},
   "outputs": [
    {
     "name": "stdout",
     "output_type": "stream",
     "text": [
      "3.36189557497318\n",
      "3.361895570388207\n",
      "3.361895570388207\n",
      "3.361895570388207\n",
      "3.361895570388207\n",
      "3.36189557497318\n",
      "3.361895570388207\n",
      "3.3618955658032346\n",
      "3.3618955658032346\n",
      "3.3618955658032346\n",
      "3.3618955658032346\n",
      "3.3618955658032346\n",
      "3.3618955658032346\n",
      "3.3618955658032346\n",
      "3.3618955658032346\n",
      "3.3618955658032346\n",
      "3.3618955658032346\n",
      "3.3618955658032346\n",
      "3.3618955612182617\n",
      "3.3618955612182617\n",
      "3.3618955612182617\n",
      "3.3618955612182617\n",
      "3.3618955612182617\n",
      "3.3618955612182617\n",
      "3.3618955612182617\n",
      "3.3618955612182617\n",
      "3.3618955612182617\n",
      "3.3618955612182617\n",
      "3.3618955612182617\n",
      "3.3618955612182617\n",
      "3.3618955612182617\n",
      "3.3618955612182617\n",
      "3.3618955612182617\n",
      "3.3618955612182617\n",
      "3.3618955612182617\n",
      "3.3618955612182617\n",
      "3.3618955612182617\n",
      "3.3618955612182617\n",
      "3.3618955612182617\n",
      "3.3618955612182617\n",
      "3.3618955612182617\n",
      "3.3618955612182617\n",
      "3.3618955612182617\n",
      "3.3618955612182617\n",
      "3.3618955612182617\n",
      "3.3618955612182617\n",
      "3.3618955612182617\n",
      "3.3618955612182617\n",
      "3.3618955612182617\n",
      "3.3618955612182617\n",
      "3.3618955612182617\n",
      "3.3618955612182617\n",
      "3.3618955612182617\n",
      "3.3618955612182617\n",
      "3.3618955612182617\n",
      "3.3618955612182617\n",
      "3.3618955612182617\n",
      "3.3618955612182617\n",
      "3.3618955612182617\n",
      "3.3618955612182617\n",
      "3.3618955612182617\n",
      "3.3618955612182617\n",
      "3.3618955612182617\n",
      "3.3618955612182617\n",
      "3.3618955612182617\n",
      "3.3618955612182617\n",
      "3.3618955612182617\n",
      "3.3618955612182617\n",
      "3.3618955612182617\n",
      "3.3618955612182617\n",
      "3.3618955612182617\n",
      "3.3618955612182617\n",
      "3.3618955612182617\n",
      "3.3618955612182617\n",
      "3.3618955612182617\n",
      "3.3618955612182617\n",
      "3.3618955612182617\n",
      "3.3618955612182617\n",
      "3.3618955612182617\n",
      "3.3618955612182617\n",
      "3.3618955612182617\n",
      "3.3618955612182617\n",
      "3.3618955612182617\n",
      "3.3618955612182617\n",
      "3.3618955612182617\n",
      "3.3618955612182617\n",
      "3.3618955612182617\n",
      "3.3618955612182617\n",
      "3.3618955612182617\n",
      "3.3618955612182617\n",
      "3.3618955612182617\n",
      "3.3618955612182617\n",
      "3.3618955612182617\n",
      "3.3618955612182617\n",
      "3.3618955612182617\n",
      "3.3618955612182617\n",
      "3.3618955612182617\n",
      "3.3618955612182617\n",
      "3.3618955612182617\n",
      "3.3618955612182617\n"
     ]
    }
   ],
   "source": [
    "LOSSES = []\n",
    "\n",
    "for epoch in range(100):\n",
    "    \n",
    "    averagemeter = AverageMeter()\n",
    "    \n",
    "    for x, y in dataloader:\n",
    "        h_0 = torch.zeros(1,10,1)\n",
    "        y_hat = model(x)\n",
    "        loss = criterion(y_hat[:,-1,:], y)\n",
    "        optimizer.zero_grad()\n",
    "        loss.backward()\n",
    "        optimizer.step()\n",
    "        averagemeter.update(val=loss.item())\n",
    "    \n",
    "    print(averagemeter.get_avg())\n",
    "    LOSSES.append(averagemeter.get_avg())"
   ]
  },
  {
   "cell_type": "code",
   "execution_count": 34,
   "metadata": {},
   "outputs": [
    {
     "data": {
      "text/plain": [
       "[<matplotlib.lines.Line2D at 0x7f536cd59b38>]"
      ]
     },
     "execution_count": 34,
     "metadata": {},
     "output_type": "execute_result"
    },
    {
     "data": {
      "image/png": "[encoded data removed]",
      "text/plain": [
       "<Figure size 432x288 with 1 Axes>"
      ]
     },
     "metadata": {
      "needs_background": "light"
     },
     "output_type": "display_data"
    }
   ],
   "source": [
    "plt.plot(LOSSES[:])"
   ]
  },
  {
   "cell_type": "code",
   "execution_count": 30,
   "metadata": {},
   "outputs": [
    {
     "name": "stdout",
     "output_type": "stream",
     "text": [
      "tensor([3]) tensor([1])\n",
      "tensor([3]) tensor([2])\n",
      "tensor([3]) tensor([3])\n",
      "tensor([3]) tensor([4])\n",
      "tensor([3]) tensor([5])\n",
      "tensor([3]) tensor([6])\n",
      "tensor([3]) tensor([7])\n",
      "tensor([3]) tensor([8])\n",
      "tensor([3]) tensor([9])\n",
      "tensor([3]) tensor([10])\n",
      "tensor([3]) tensor([11])\n",
      "tensor([3]) tensor([12])\n",
      "tensor([3]) tensor([13])\n",
      "tensor([3]) tensor([14])\n",
      "tensor([3]) tensor([15])\n",
      "tensor([3]) tensor([16])\n",
      "tensor([3]) tensor([17])\n",
      "tensor([3]) tensor([18])\n",
      "tensor([3]) tensor([19])\n",
      "tensor([3]) tensor([20])\n",
      "tensor([3]) tensor([21])\n",
      "tensor([3]) tensor([22])\n",
      "tensor([3]) tensor([23])\n",
      "tensor([3]) tensor([24])\n",
      "tensor([3]) tensor([25])\n",
      "tensor([3]) tensor([0])\n"
     ]
    }
   ],
   "source": [
    "with torch.no_grad():\n",
    "    for x, y in dataloader:\n",
    "        y_hat = model(x)\n",
    "        print(y_hat[:, -1, :].argmax(dim=1), y)"
   ]
  },
  {
   "cell_type": "code",
   "execution_count": 14,
   "metadata": {},
   "outputs": [],
   "source": [
    "x, y = next(iter(dataloader))"
   ]
  },
  {
   "cell_type": "code",
   "execution_count": 15,
   "metadata": {},
   "outputs": [
    {
     "data": {
      "text/plain": [
       "torch.Size([1, 2, 26])"
      ]
     },
     "execution_count": 15,
     "metadata": {},
     "output_type": "execute_result"
    }
   ],
   "source": [
    "x.shape"
   ]
  },
  {
   "cell_type": "code",
   "execution_count": null,
   "metadata": {},
   "outputs": [],
   "source": []
  },
  {
   "cell_type": "code",
   "execution_count": null,
   "metadata": {},
   "outputs": [],
   "source": []
  },
  {
   "cell_type": "code",
   "execution_count": null,
   "metadata": {},
   "outputs": [],
   "source": []
  },
  {
   "cell_type": "code",
   "execution_count": null,
   "metadata": {},
   "outputs": [],
   "source": []
  },
  {
   "cell_type": "code",
   "execution_count": null,
   "metadata": {},
   "outputs": [],
   "source": []
  },
  {
   "cell_type": "code",
   "execution_count": null,
   "metadata": {},
   "outputs": [],
   "source": []
  },
  {
   "cell_type": "code",
   "execution_count": null,
   "metadata": {},
   "outputs": [],
   "source": []
  },
  {
   "cell_type": "code",
   "execution_count": null,
   "metadata": {},
   "outputs": [],
   "source": []
  },
  {
   "cell_type": "code",
   "execution_count": null,
   "metadata": {},
   "outputs": [],
   "source": []
  },
  {
   "cell_type": "code",
   "execution_count": null,
   "metadata": {},
   "outputs": [],
   "source": []
  },
  {
   "cell_type": "code",
   "execution_count": null,
   "metadata": {},
   "outputs": [],
   "source": []
  }
 ],
 "metadata": {
  "kernelspec": {
   "display_name": "Python 3.6.9 64-bit",
   "language": "python",
   "name": "python36964bitbe4a55f02b4d487ab9d485b644b96077"
  },
  "language_info": {
   "codemirror_mode": {
    "name": "ipython",
    "version": 3
   },
   "file_extension": ".py",
   "mimetype": "text/x-python",
   "name": "python",
   "nbconvert_exporter": "python",
   "pygments_lexer": "ipython3",
   "version": "3.6.9"
  }
 },
 "nbformat": 4,
 "nbformat_minor": 2
}

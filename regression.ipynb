{
 "cells": [
  {
   "cell_type": "markdown",
   "metadata": {},
   "source": [
    "# <span style=\"color:red\"> Problem: Dataset of three features and one output is given. Predict the line that best fit the dataset.</span>"
   ]
  },
  {
   "cell_type": "markdown",
   "metadata": {},
   "source": [
    "# <span style=\"color:red\">Dataset preparation</span>"
   ]
  },
  {
   "cell_type": "code",
   "execution_count": 1,
   "metadata": {},
   "outputs": [],
   "source": [
    "import torch\n",
    "import matplotlib.pyplot as plt"
   ]
  },
  {
   "cell_type": "code",
   "execution_count": 2,
   "metadata": {},
   "outputs": [],
   "source": [
    "x = torch.rand(200, 3, dtype=torch.float32)*50"
   ]
  },
  {
   "cell_type": "code",
   "execution_count": 3,
   "metadata": {},
   "outputs": [],
   "source": [
    "weight = torch.tensor([[1.], [3.], [-2.]])\n",
    "bias = -5"
   ]
  },
  {
   "cell_type": "code",
   "execution_count": 4,
   "metadata": {},
   "outputs": [],
   "source": [
    "y = x@weight-bias"
   ]
  },
  {
   "cell_type": "code",
   "execution_count": 5,
   "metadata": {},
   "outputs": [],
   "source": [
    "# y = 1*x1 + 3*x2 - 2*x3 -5"
   ]
  },
  {
   "cell_type": "code",
   "execution_count": 6,
   "metadata": {},
   "outputs": [],
   "source": [
    "DS = {'X': x, 'Y': y}"
   ]
  },
  {
   "cell_type": "markdown",
   "metadata": {},
   "source": [
    "### Description of some keyworks:\n",
    "```\n",
    "DS: dictionary of provided dataset x, y. DS['X'] is x, DS['Y'] is y.\n",
    "LOSS: list of losses in epochs\n",
    "```"
   ]
  },
  {
   "cell_type": "markdown",
   "metadata": {},
   "source": [
    "# <span style=\"color:green\"> Answer: </span>"
   ]
  },
  {
   "cell_type": "markdown",
   "metadata": {},
   "source": [
    "## Custom dataset"
   ]
  },
  {
   "cell_type": "code",
   "execution_count": 7,
   "metadata": {},
   "outputs": [],
   "source": [
    "from torch.utils.data.dataset import Dataset\n",
    "\n",
    "class MyCustomDataset(Dataset):\n",
    "    \n",
    "    def __init__(self, x, y):\n",
    "        self.x = x\n",
    "        self.y = y\n",
    "        \n",
    "    def __getitem__(self, index):\n",
    "        return self.x[index], self.y[index]\n",
    "\n",
    "    def __len__(self):\n",
    "        return len(self.x) # of how many examples(images?) you have"
   ]
  },
  {
   "cell_type": "code",
   "execution_count": 8,
   "metadata": {},
   "outputs": [],
   "source": [
    "dataset = MyCustomDataset(DS['X'], DS['Y'])"
   ]
  },
  {
   "cell_type": "markdown",
   "metadata": {},
   "source": [
    "## DataLoader"
   ]
  },
  {
   "cell_type": "code",
   "execution_count": 9,
   "metadata": {},
   "outputs": [],
   "source": [
    "from torch.utils.data import DataLoader\n",
    "\n",
    "batch_size = 8\n",
    "\n",
    "train_loader = DataLoader(dataset, batch_size, shuffle=True)"
   ]
  },
  {
   "cell_type": "markdown",
   "metadata": {},
   "source": [
    "# Model"
   ]
  },
  {
   "cell_type": "code",
   "execution_count": 10,
   "metadata": {},
   "outputs": [],
   "source": [
    "class linear_regression(torch.nn.Module):\n",
    "    \n",
    "    def __init__(self, input_size, output_size):\n",
    "        \n",
    "        super(linear_regression, self).__init__()\n",
    "        self.linear = torch.nn.Linear(input_size, output_size)\n",
    "\n",
    "    def forward(self, x):\n",
    "        \n",
    "        out = self.linear(x)\n",
    "        return out"
   ]
  },
  {
   "cell_type": "code",
   "execution_count": 11,
   "metadata": {},
   "outputs": [],
   "source": [
    "model = linear_regression(3, 1)"
   ]
  },
  {
   "cell_type": "markdown",
   "metadata": {},
   "source": [
    "# Loss"
   ]
  },
  {
   "cell_type": "code",
   "execution_count": 12,
   "metadata": {},
   "outputs": [],
   "source": [
    "criterion = torch.nn.MSELoss() "
   ]
  },
  {
   "cell_type": "markdown",
   "metadata": {},
   "source": [
    "# Optimizer"
   ]
  },
  {
   "cell_type": "code",
   "execution_count": 13,
   "metadata": {},
   "outputs": [],
   "source": [
    "optimizer = torch.optim.SGD(model.parameters(), lr=0.00001)"
   ]
  },
  {
   "cell_type": "code",
   "execution_count": 14,
   "metadata": {},
   "outputs": [],
   "source": [
    "with torch.no_grad():\n",
    "    y_pred = model(DS['X'])"
   ]
  },
  {
   "cell_type": "code",
   "execution_count": 15,
   "metadata": {},
   "outputs": [
    {
     "data": {
      "text/plain": [
       "[<matplotlib.lines.Line2D at 0x7fde05ea1128>]"
      ]
     },
     "execution_count": 15,
     "metadata": {},
     "output_type": "execute_result"
    },
    {
     "data": {
      "image/png": "[encoded data removed]",
      "text/plain": [
       "<Figure size 432x288 with 1 Axes>"
      ]
     },
     "metadata": {
      "needs_background": "light"
     },
     "output_type": "display_data"
    }
   ],
   "source": [
    "plt.plot(DS['Y'].view(-1).numpy(), 'r.')\n",
    "plt.plot(y_pred.view(-1).numpy(), 'g.')"
   ]
  },
  {
   "cell_type": "code",
   "execution_count": 16,
   "metadata": {},
   "outputs": [
    {
     "name": "stdout",
     "output_type": "stream",
     "text": [
      "Epoch 0 loss: 6778.827260971069\n",
      "Epoch 1 loss: 4494.878917694092\n",
      "Epoch 2 loss: 3599.25186920166\n",
      "Epoch 3 loss: 2978.9989280700684\n",
      "Epoch 4 loss: 2447.6331157684326\n",
      "Epoch 5 loss: 2028.0320491790771\n",
      "Epoch 6 loss: 1680.7835960388184\n",
      "Epoch 7 loss: 1396.9891185760498\n",
      "Epoch 8 loss: 1156.1400775909424\n",
      "Epoch 9 loss: 963.6406917572021\n",
      "Epoch 10 loss: 795.7952404022217\n",
      "Epoch 11 loss: 662.6210336685181\n",
      "Epoch 12 loss: 552.0019426345825\n",
      "Epoch 13 loss: 460.62442779541016\n",
      "Epoch 14 loss: 382.7749650478363\n",
      "Epoch 15 loss: 319.7232367992401\n",
      "Epoch 16 loss: 267.63171207904816\n",
      "Epoch 17 loss: 223.8205165863037\n",
      "Epoch 18 loss: 187.8021936416626\n",
      "Epoch 19 loss: 157.79339385032654\n",
      "Epoch 20 loss: 133.0367841720581\n",
      "Epoch 21 loss: 112.15679383277893\n",
      "Epoch 22 loss: 94.6453572511673\n",
      "Epoch 23 loss: 80.43760597705841\n",
      "Epoch 24 loss: 68.66591894626617\n",
      "Epoch 25 loss: 58.68014645576477\n",
      "Epoch 26 loss: 50.49634110927582\n",
      "Epoch 27 loss: 43.680171608924866\n",
      "Epoch 28 loss: 37.80929809808731\n",
      "Epoch 29 loss: 33.10062974691391\n",
      "Epoch 30 loss: 29.104503333568573\n",
      "Epoch 31 loss: 25.812471449375153\n",
      "Epoch 32 loss: 22.983985722064972\n",
      "Epoch 33 loss: 20.701542392373085\n",
      "Epoch 34 loss: 18.74965301156044\n",
      "Epoch 35 loss: 17.206226766109467\n",
      "Epoch 36 loss: 15.837996780872345\n",
      "Epoch 37 loss: 14.689769625663757\n",
      "Epoch 38 loss: 13.801730662584305\n",
      "Epoch 39 loss: 12.98640525341034\n",
      "Epoch 40 loss: 12.366916075348854\n",
      "Epoch 41 loss: 11.816716656088829\n",
      "Epoch 42 loss: 11.317082718014717\n",
      "Epoch 43 loss: 10.960114032030106\n",
      "Epoch 44 loss: 10.649595744907856\n",
      "Epoch 45 loss: 10.349604800343513\n",
      "Epoch 46 loss: 10.141328662633896\n",
      "Epoch 47 loss: 9.970801785588264\n",
      "Epoch 48 loss: 9.800331763923168\n",
      "Epoch 49 loss: 9.684866189956665\n"
     ]
    }
   ],
   "source": [
    "LOSS = []\n",
    "for epoch in range(50):\n",
    "    sum_loss_in_batch = 0.\n",
    "    for step, (x, y) in enumerate(train_loader):\n",
    "        y_hat = model(x)\n",
    "        loss = criterion(y_hat, y)\n",
    "        optimizer.zero_grad()\n",
    "        loss.backward()\n",
    "        optimizer.step()\n",
    "        sum_loss_in_batch += loss.item()\n",
    "    \n",
    "    loss_in_epoch = sum_loss_in_batch/batch_size\n",
    "    \n",
    "    print(f\"Epoch {epoch} loss: {loss_in_epoch}\")\n",
    "    \n",
    "    LOSS.append(loss_in_epoch)"
   ]
  },
  {
   "cell_type": "code",
   "execution_count": 17,
   "metadata": {},
   "outputs": [
    {
     "data": {
      "text/plain": [
       "[<matplotlib.lines.Line2D at 0x7fde05e38ba8>]"
      ]
     },
     "execution_count": 17,
     "metadata": {},
     "output_type": "execute_result"
    },
    {
     "data": {
      "image/png": "[encoded data removed]",
      "text/plain": [
       "<Figure size 432x288 with 1 Axes>"
      ]
     },
     "metadata": {
      "needs_background": "light"
     },
     "output_type": "display_data"
    }
   ],
   "source": [
    "import matplotlib.pyplot as plt\n",
    "plt.plot(LOSS)"
   ]
  },
  {
   "cell_type": "code",
   "execution_count": 18,
   "metadata": {},
   "outputs": [],
   "source": [
    "with torch.no_grad():\n",
    "    y_pred = model(DS['X'])"
   ]
  },
  {
   "cell_type": "code",
   "execution_count": 19,
   "metadata": {},
   "outputs": [
    {
     "data": {
      "text/plain": [
       "[<matplotlib.lines.Line2D at 0x7fde0559df98>]"
      ]
     },
     "execution_count": 19,
     "metadata": {},
     "output_type": "execute_result"
    },
    {
     "data": {
      "image/png": "[encoded data removed]",
      "text/plain": [
       "<Figure size 432x288 with 1 Axes>"
      ]
     },
     "metadata": {
      "needs_background": "light"
     },
     "output_type": "display_data"
    }
   ],
   "source": [
    "plt.plot(DS['Y'].view(-1).numpy(), 'r.')\n",
    "plt.plot(y_pred.view(-1).numpy(), 'g.')"
   ]
  },
  {
   "cell_type": "code",
   "execution_count": null,
   "metadata": {},
   "outputs": [],
   "source": []
  }
 ],
 "metadata": {
  "kernelspec": {
   "display_name": "Python 3.6.9 64-bit",
   "language": "python",
   "name": "python36964bitbe4a55f02b4d487ab9d485b644b96077"
  },
  "language_info": {
   "codemirror_mode": {
    "name": "ipython",
    "version": 3
   },
   "file_extension": ".py",
   "mimetype": "text/x-python",
   "name": "python",
   "nbconvert_exporter": "python",
   "pygments_lexer": "ipython3",
   "version": "3.6.9"
  }
 },
 "nbformat": 4,
 "nbformat_minor": 2
}
